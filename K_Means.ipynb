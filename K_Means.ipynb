{
  "nbformat": 4,
  "nbformat_minor": 0,
  "metadata": {
    "colab": {
      "provenance": [],
      "authorship_tag": "ABX9TyOcTHrQwoF7W9K/l28q6sCN",
      "include_colab_link": true
    },
    "kernelspec": {
      "name": "python3",
      "display_name": "Python 3"
    },
    "language_info": {
      "name": "python"
    }
  },
  "cells": [
    {
      "cell_type": "markdown",
      "metadata": {
        "id": "view-in-github",
        "colab_type": "text"
      },
      "source": [
        "<a href=\"https://colab.research.google.com/github/Himanshu0702/Machine-Learning/blob/main/K_Means.ipynb\" target=\"_parent\"><img src=\"https://colab.research.google.com/assets/colab-badge.svg\" alt=\"Open In Colab\"/></a>"
      ]
    },
    {
      "cell_type": "code",
      "execution_count": null,
      "metadata": {
        "id": "RvZ8vuiFhzij"
      },
      "outputs": [],
      "source": []
    },
    {
      "cell_type": "code",
      "execution_count": null,
      "metadata": {
        "colab": {
          "base_uri": "https://localhost:8080/",
          "height": 265
        },
        "id": "m-YdBAgTiEAH",
        "outputId": "bbbd0f9d-0492-4671-8584-5bf59894a8a7"
      },
      "outputs": [
        {
          "output_type": "display_data",
          "data": {
            "text/plain": [
              "<Figure size 432x288 with 1 Axes>"
            ],
            "image/png": "[encoded data removed]"
          },
          "metadata": {}
        }
      ],
      "source": [
        "import matplotlib.pyplot as plt\n",
        "from matplotlib import style\n",
        "import numpy as np\n",
        "from sklearn.cluster import KMeans\n",
        "style.use('ggplot')\n",
        "\n",
        "#ORIGINAL:\n",
        "\n",
        "X = np.array([[1.5, 1.2],\n",
        "              [1.4, 1.8],\n",
        "              [7, 8],\n",
        "              [9, 10],\n",
        "              [1.2, 0.6],\n",
        "              [10, 11]])\n",
        "\n",
        "clf = KMeans(n_clusters=4)\n",
        "clf.fit(X)\n",
        "\n",
        "centroids = clf.cluster_centers_\n",
        "labels = clf.labels_\n",
        "\n",
        "colors = [\"g.\",\"r.\",\"c.\",\"y.\"]\n",
        "for i in range(len(X)):\n",
        "    plt.plot(X[i][0], X[i][1], colors[labels[i]], markersize = 10)\n",
        "plt.scatter(centroids[:, 0],centroids[:, 1], marker = \"x\", s=150, linewidths = 5, zorder = 10)\n",
        "plt.show()"
      ]
    }
  ]
}