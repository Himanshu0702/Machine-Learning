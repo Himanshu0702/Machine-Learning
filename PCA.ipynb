{
  "nbformat": 4,
  "nbformat_minor": 0,
  "metadata": {
    "colab": {
      "provenance": [],
      "authorship_tag": "ABX9TyNq1FsmecUws6Xz3uBZlZ2M",
      "include_colab_link": true
    },
    "kernelspec": {
      "name": "python3",
      "display_name": "Python 3"
    },
    "language_info": {
      "name": "python"
    }
  },
  "cells": [
    {
      "cell_type": "markdown",
      "metadata": {
        "id": "view-in-github",
        "colab_type": "text"
      },
      "source": [
        "<a href=\"https://colab.research.google.com/github/Himanshu0702/Machine-Learning/blob/main/PCA.ipynb\" target=\"_parent\"><img src=\"https://colab.research.google.com/assets/colab-badge.svg\" alt=\"Open In Colab\"/></a>"
      ]
    },
    {
      "cell_type": "code",
      "execution_count": null,
      "metadata": {
        "id": "y1YmQAh8N8Bk"
      },
      "outputs": [],
      "source": [
        "import pandas as pd\n",
        "dataset = pd.read_csv(\"/content/Iris.csv\")\n",
        "dataset.head()"
      ]
    },
    {
      "cell_type": "code",
      "source": [
        "a1 = dataset[\"SepalLengthCm\"]\n",
        "a2 = dataset[\"PetalLengthCm\"]\n",
        "\n",
        "import matplotlib.pyplot as plt\n",
        "plt.title(\"SepalLength vs PetalLength\")\n",
        "plt.xlabel(\"PetalLength\")\n",
        "plt.ylabel(\"SepalLength\")\n",
        "plt.plot(a1,a2,'.')\n",
        "plt.show()\n"
      ],
      "metadata": {
        "colab": {
          "base_uri": "https://localhost:8080/",
          "height": 295
        },
        "id": "l7dE731bp_P0",
        "outputId": "1e8e234f-8efe-4b4f-e690-f94c6551dac3"
      },
      "execution_count": 19,
      "outputs": [
        {
          "output_type": "display_data",
          "data": {
            "text/plain": [
              "<Figure size 432x288 with 1 Axes>"
            ],
            "image/png": "[encoded data removed]"
          },
          "metadata": {
            "needs_background": "light"
          }
        }
      ]
    },
    {
      "cell_type": "code",
      "source": [
        "import numpy as np\n",
        "std1 = (a1-np.mean(a1))/np.std(a1)\n",
        "std2 = (a2-np.mean(a2))/np.std(a2)\n",
        "std3 = np.array([std1.T,std2.T])"
      ],
      "metadata": {
        "id": "RRPbaZLIqStD"
      },
      "execution_count": 20,
      "outputs": []
    },
    {
      "cell_type": "code",
      "source": [
        "covariance = np.cov(np.array([std1,std2]))"
      ],
      "metadata": {
        "id": "4ZgYoH2trJSU"
      },
      "execution_count": 21,
      "outputs": []
    },
    {
      "cell_type": "code",
      "source": [
        "from numpy import linalg as LA\n",
        "eigen_val, eigen_vectors = LA.eig(covariance)\n",
        "print(eigen_val)\n",
        "print(eigen_vectors)"
      ],
      "metadata": {
        "colab": {
          "base_uri": "https://localhost:8080/",
          "height": 0
        },
        "id": "rtoLxg53rOxD",
        "outputId": "c5cc5f47-3611-4577-dcf0-d46463bc7fcb"
      },
      "execution_count": 22,
      "outputs": [
        {
          "output_type": "stream",
          "name": "stdout",
          "text": [
            "[1.88431627 0.12910655]\n",
            "[[ 0.70710678 -0.70710678]\n",
            " [ 0.70710678  0.70710678]]\n"
          ]
        }
      ]
    },
    {
      "cell_type": "code",
      "source": [
        "new_feature = np.matmul(std3.T, eigen_vectors[1:].T)\n",
        "new_feature[:10, :]"
      ],
      "metadata": {
        "colab": {
          "base_uri": "https://localhost:8080/",
          "height": 0
        },
        "id": "L3ReJKa0rlE8",
        "outputId": "a543abef-22e1-46b3-e6cd-49bd56dc6319"
      },
      "execution_count": 23,
      "outputs": [
        {
          "output_type": "execute_result",
          "data": {
            "text/plain": [
              "array([[-1.58530058],\n",
              "       [-1.75665782],\n",
              "       [-1.96822519],\n",
              "       [-1.97348357],\n",
              "       [-1.6709792 ],\n",
              "       [-1.20763433],\n",
              "       [-2.01369369],\n",
              "       [-1.63076907],\n",
              "       [-2.18505094],\n",
              "       [-1.7164477 ]])"
            ]
          },
          "metadata": {},
          "execution_count": 23
        }
      ]
    },
    {
      "cell_type": "code",
      "source": [
        "#PCA using ScikitLearn\n",
        "from sklearn.decomposition import PCA\n",
        "pca = PCA(n_components = 1)\n",
        "decomposed_pcs = pca.fit_transform(std3.T)\n",
        "decomposed_pcs[:10, :]"
      ],
      "metadata": {
        "colab": {
          "base_uri": "https://localhost:8080/",
          "height": 0
        },
        "id": "Hhqx8uwCrxvk",
        "outputId": "354c8196-85e1-421f-899b-845704dfdbae"
      },
      "execution_count": 24,
      "outputs": [
        {
          "output_type": "execute_result",
          "data": {
            "text/plain": [
              "array([[-1.58530058],\n",
              "       [-1.75665782],\n",
              "       [-1.96822519],\n",
              "       [-1.97348357],\n",
              "       [-1.6709792 ],\n",
              "       [-1.20763433],\n",
              "       [-2.01369369],\n",
              "       [-1.63076907],\n",
              "       [-2.18505094],\n",
              "       [-1.7164477 ]])"
            ]
          },
          "metadata": {},
          "execution_count": 24
        }
      ]
    },
    {
      "cell_type": "code",
      "source": [
        "from sklearn.decomposition import PCA\n",
        "pca = PCA(n_components = 2)\n",
        "decomposed_pcs = pca.fit_transform(std3.T)\n",
        "decomposed_pcs"
      ],
      "metadata": {
        "colab": {
          "base_uri": "https://localhost:8080/",
          "height": 0
        },
        "id": "XO2E7OxbsCZs",
        "outputId": "a4897b69-2a97-4235-e8a1-860208d68699"
      },
      "execution_count": 25,
      "outputs": [
        {
          "output_type": "execute_result",
          "data": {
            "text/plain": [
              "array([[-1.58530058, -0.31154505],\n",
              "       [-1.75665782, -0.1401878 ],\n",
              "       [-1.96822519, -0.00904068],\n",
              "       [-1.97348357,  0.15705819],\n",
              "       [-1.6709792 , -0.22586643],\n",
              "       [-1.20763433, -0.44795054],\n",
              "       [-2.01369369,  0.11684806],\n",
              "       [-1.63076907, -0.1856563 ],\n",
              "       [-2.18505094,  0.28820531],\n",
              "       [-1.7164477 , -0.09997768],\n",
              "       [-1.28805458, -0.52837079],\n",
              "       [-1.76191619,  0.02591107],\n",
              "       [-1.84233644, -0.05450918],\n",
              "       [-2.39135993,  0.25325356],\n",
              "       [-1.06597047, -0.99171566],\n",
              "       [-1.03101871, -0.78540666],\n",
              "       [-1.36847483, -0.60879104],\n",
              "       [-1.58530058, -0.31154505],\n",
              "       [-0.95059846, -0.70498641],\n",
              "       [-1.54509045, -0.27133492],\n",
              "       [-1.20763433, -0.44795054],\n",
              "       [-1.54509045, -0.27133492],\n",
              "       [-2.17453419, -0.04399243],\n",
              "       [-1.4646702 , -0.19091467],\n",
              "       [-1.64128582,  0.14654144],\n",
              "       [-1.59055895, -0.14544618],\n",
              "       [-1.59055895, -0.14544618],\n",
              "       [-1.45941183, -0.35701355],\n",
              "       [-1.49962195, -0.39722367],\n",
              "       [-1.84759482,  0.11158969],\n",
              "       [-1.76191619,  0.02591107],\n",
              "       [-1.28805458, -0.52837079],\n",
              "       [-1.45941183, -0.35701355],\n",
              "       [-1.24258608, -0.65425954],\n",
              "       [-1.7164477 , -0.09997768],\n",
              "       [-1.75139945, -0.30628668],\n",
              "       [-1.28279621, -0.69446967],\n",
              "       [-1.7164477 , -0.09997768],\n",
              "       [-2.22526106,  0.24799519],\n",
              "       [-1.54509045, -0.27133492],\n",
              "       [-1.71118932, -0.26607655],\n",
              "       [-2.13958244,  0.16231656],\n",
              "       [-2.22526106,  0.24799519],\n",
              "       [-1.59055895, -0.14544618],\n",
              "       [-1.38424995, -0.11049443],\n",
              "       [-1.84233644, -0.05450918],\n",
              "       [-1.50488033, -0.2311248 ],\n",
              "       [-2.01369369,  0.11684806],\n",
              "       [-1.37373321, -0.44269217],\n",
              "       [-1.6709792 , -0.22586643],\n",
              "       [ 1.36952738, -0.61250476],\n",
              "       [ 0.77503539, -0.17885327],\n",
              "       [ 1.36426901, -0.44640589],\n",
              "       [-0.19712284,  0.39120371],\n",
              "       [ 0.90092414, -0.22432177],\n",
              "       [ 0.17528503,  0.42089709],\n",
              "       [ 0.76977702, -0.0127544 ],\n",
              "       [-0.99266545,  0.62380457],\n",
              "       [ 0.98660276, -0.3100004 ],\n",
              "       [-0.49436883,  0.60802945],\n",
              "       [-0.82656658,  0.6185462 ],\n",
              "       [ 0.2260119 ,  0.12890946],\n",
              "       [ 0.23127028, -0.03718941],\n",
              "       [ 0.59841977,  0.15860284],\n",
              "       [-0.27228471,  0.14468458],\n",
              "       [ 0.99186114, -0.47609927],\n",
              "       [ 0.08960641,  0.50657571],\n",
              "       [ 0.10012316,  0.17437796],\n",
              "       [ 0.60367815, -0.00749603],\n",
              "       [-0.15165434,  0.26531496],\n",
              "       [ 0.46727265,  0.37017021],\n",
              "       [ 0.3169489 , -0.12286803],\n",
              "       [ 0.85019727,  0.06766585],\n",
              "       [ 0.59841977,  0.15860284],\n",
              "       [ 0.69461514, -0.25927352],\n",
              "       [ 0.90618251, -0.39042065],\n",
              "       [ 1.23838026, -0.40093739],\n",
              "       [ 1.23312189, -0.23483852],\n",
              "       [ 0.4323209 ,  0.16386122],\n",
              "       [-0.22681622,  0.01879584],\n",
              "       [-0.27754309,  0.31078346],\n",
              "       [-0.31775321,  0.27057333],\n",
              "       [ 0.01970291,  0.09395771],\n",
              "       [ 0.67358165,  0.40512197],\n",
              "       [-0.08175084,  0.67793295],\n",
              "       [ 0.4323209 ,  0.16386122],\n",
              "       [ 1.11249151, -0.35546889],\n",
              "       [ 0.64914665, -0.13338478],\n",
              "       [-0.07123409,  0.34573521],\n",
              "       [-0.19712284,  0.39120371],\n",
              "       [-0.03628234,  0.55204421],\n",
              "       [ 0.55820965,  0.11839272],\n",
              "       [ 0.05991303,  0.13416784],\n",
              "       [-0.90698683,  0.53812595],\n",
              "       [-0.03102396,  0.38594533],\n",
              "       [ 0.05465466,  0.30026671],\n",
              "       [ 0.05465466,  0.30026671],\n",
              "       [ 0.5232579 , -0.08791628],\n",
              "       [-0.94193858,  0.33181695],\n",
              "       [ 0.01444453,  0.26005659],\n",
              "       [ 1.29250864,  0.50997722],\n",
              "       [ 0.50222441,  0.57647921],\n",
              "       [ 1.9377275 , -0.21566189],\n",
              "       [ 1.13166814,  0.34913672],\n",
              "       [ 1.38344564,  0.25819973],\n",
              "       [ 2.64759149, -0.36258413],\n",
              "       [-0.51014395,  1.10632607],\n",
              "       [ 2.26992525, -0.22617863],\n",
              "       [ 1.55480289,  0.08684248],\n",
              "       [ 2.10382637, -0.22092026],\n",
              "       [ 1.10197477, -0.02327115],\n",
              "       [ 1.09671639,  0.14282772],\n",
              "       [ 1.51985113, -0.11946652],\n",
              "       [ 0.37633566,  0.62194771],\n",
              "       [ 0.50222441,  0.57647921],\n",
              "       [ 1.09671639,  0.14282772],\n",
              "       [ 1.26281527,  0.13756935],\n",
              "       [ 2.77348024, -0.40805262],\n",
              "       [ 2.85390049, -0.32763237],\n",
              "       [ 0.63337153,  0.36491184],\n",
              "       [ 1.68595001, -0.12472489],\n",
              "       [ 0.25044691,  0.66741621],\n",
              "       [ 2.77348024, -0.40805262],\n",
              "       [ 0.85019727,  0.06766585],\n",
              "       [ 1.51459276,  0.04663236],\n",
              "       [ 2.06361625, -0.26113038],\n",
              "       [ 0.72430852,  0.11313435],\n",
              "       [ 0.67884002,  0.23902309],\n",
              "       [ 1.21734677,  0.2634581 ],\n",
              "       [ 1.983196  , -0.34155063],\n",
              "       [ 2.27518362, -0.3922775 ],\n",
              "       [ 2.82420711, -0.70004024],\n",
              "       [ 1.21734677,  0.2634581 ],\n",
              "       [ 0.93061752,  0.1480861 ],\n",
              "       [ 0.9603109 ,  0.52049397],\n",
              "       [ 2.53221949, -0.64931337],\n",
              "       [ 1.13166814,  0.34913672],\n",
              "       [ 1.17713664,  0.22324797],\n",
              "       [ 0.55295128,  0.28449159],\n",
              "       [ 1.56531963, -0.24535526],\n",
              "       [ 1.47438264,  0.00642223],\n",
              "       [ 1.44468926, -0.36598564],\n",
              "       [ 0.50222441,  0.57647921],\n",
              "       [ 1.68069163,  0.04137398],\n",
              "       [ 1.51459276,  0.04663236],\n",
              "       [ 1.31354214, -0.15441827],\n",
              "       [ 0.89040739,  0.10787597],\n",
              "       [ 1.14218489,  0.01693898],\n",
              "       [ 0.96556927,  0.3543951 ],\n",
              "       [ 0.58790303,  0.49080059]])"
            ]
          },
          "metadata": {},
          "execution_count": 25
        }
      ]
    }
  ]
}