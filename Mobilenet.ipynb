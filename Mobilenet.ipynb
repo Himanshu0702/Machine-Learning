{
  "nbformat": 4,
  "nbformat_minor": 0,
  "metadata": {
    "colab": {
      "provenance": [],
      "mount_file_id": "14gwJzIrnnybZivirO3AEA3IkUmDzS3cl",
      "authorship_tag": "ABX9TyOeNxTA9AQMrLXyq0qdNRkc",
      "include_colab_link": true
    },
    "kernelspec": {
      "name": "python3",
      "display_name": "Python 3"
    },
    "language_info": {
      "name": "python"
    }
  },
  "cells": [
    {
      "cell_type": "markdown",
      "metadata": {
        "id": "view-in-github",
        "colab_type": "text"
      },
      "source": [
        "<a href=\"https://colab.research.google.com/github/Himanshu0702/Machine-Learning/blob/main/Mobilenet.ipynb\" target=\"_parent\"><img src=\"https://colab.research.google.com/assets/colab-badge.svg\" alt=\"Open In Colab\"/></a>"
      ]
    },
    {
      "cell_type": "code",
      "execution_count": 53,
      "metadata": {
        "colab": {
          "base_uri": "https://localhost:8080/"
        },
        "id": "3sJPyPJQkaKf",
        "outputId": "9702868e-c954-4f8a-abb7-99c6d4deccda"
      },
      "outputs": [
        {
          "output_type": "stream",
          "name": "stdout",
          "text": [
            "Looking in indexes: https://pypi.org/simple, https://us-python.pkg.dev/colab-wheels/public/simple/\n",
            "Requirement already satisfied: image in /usr/local/lib/python3.8/dist-packages (1.5.33)\n",
            "Requirement already satisfied: pillow in /usr/local/lib/python3.8/dist-packages (from image) (7.1.2)\n",
            "Requirement already satisfied: django in /usr/local/lib/python3.8/dist-packages (from image) (4.1.4)\n",
            "Requirement already satisfied: six in /usr/local/lib/python3.8/dist-packages (from image) (1.15.0)\n",
            "Requirement already satisfied: asgiref<4,>=3.5.2 in /usr/local/lib/python3.8/dist-packages (from django->image) (3.5.2)\n",
            "Requirement already satisfied: backports.zoneinfo in /usr/local/lib/python3.8/dist-packages (from django->image) (0.2.1)\n",
            "Requirement already satisfied: sqlparse>=0.2.2 in /usr/local/lib/python3.8/dist-packages (from django->image) (0.4.3)\n"
          ]
        }
      ],
      "source": [
        "pip install image\n"
      ]
    },
    {
      "cell_type": "code",
      "source": [
        "pip install tensorflow"
      ],
      "metadata": {
        "colab": {
          "base_uri": "https://localhost:8080/"
        },
        "id": "sRnzrjSSlzvf",
        "outputId": "9e4198dc-22b9-48b2-f018-b02346626d05"
      },
      "execution_count": 54,
      "outputs": [
        {
          "output_type": "stream",
          "name": "stdout",
          "text": [
            "Looking in indexes: https://pypi.org/simple, https://us-python.pkg.dev/colab-wheels/public/simple/\n",
            "Requirement already satisfied: tensorflow in /usr/local/lib/python3.8/dist-packages (2.9.2)\n",
            "Requirement already satisfied: packaging in /usr/local/lib/python3.8/dist-packages (from tensorflow) (21.3)\n",
            "Requirement already satisfied: grpcio<2.0,>=1.24.3 in /usr/local/lib/python3.8/dist-packages (from tensorflow) (1.51.1)\n",
            "Requirement already satisfied: absl-py>=1.0.0 in /usr/local/lib/python3.8/dist-packages (from tensorflow) (1.3.0)\n",
            "Requirement already satisfied: google-pasta>=0.1.1 in /usr/local/lib/python3.8/dist-packages (from tensorflow) (0.2.0)\n",
            "Requirement already satisfied: wrapt>=1.11.0 in /usr/local/lib/python3.8/dist-packages (from tensorflow) (1.14.1)\n",
            "Requirement already satisfied: termcolor>=1.1.0 in /usr/local/lib/python3.8/dist-packages (from tensorflow) (2.1.1)\n",
            "Requirement already satisfied: protobuf<3.20,>=3.9.2 in /usr/local/lib/python3.8/dist-packages (from tensorflow) (3.19.6)\n",
            "Requirement already satisfied: tensorflow-io-gcs-filesystem>=0.23.1 in /usr/local/lib/python3.8/dist-packages (from tensorflow) (0.28.0)\n",
            "Requirement already satisfied: typing-extensions>=3.6.6 in /usr/local/lib/python3.8/dist-packages (from tensorflow) (4.4.0)\n",
            "Requirement already satisfied: gast<=0.4.0,>=0.2.1 in /usr/local/lib/python3.8/dist-packages (from tensorflow) (0.4.0)\n",
            "Requirement already satisfied: opt-einsum>=2.3.2 in /usr/local/lib/python3.8/dist-packages (from tensorflow) (3.3.0)\n",
            "Requirement already satisfied: tensorboard<2.10,>=2.9 in /usr/local/lib/python3.8/dist-packages (from tensorflow) (2.9.1)\n",
            "Requirement already satisfied: keras-preprocessing>=1.1.1 in /usr/local/lib/python3.8/dist-packages (from tensorflow) (1.1.2)\n",
            "Requirement already satisfied: astunparse>=1.6.0 in /usr/local/lib/python3.8/dist-packages (from tensorflow) (1.6.3)\n",
            "Requirement already satisfied: libclang>=13.0.0 in /usr/local/lib/python3.8/dist-packages (from tensorflow) (14.0.6)\n",
            "Requirement already satisfied: numpy>=1.20 in /usr/local/lib/python3.8/dist-packages (from tensorflow) (1.21.6)\n",
            "Requirement already satisfied: setuptools in /usr/local/lib/python3.8/dist-packages (from tensorflow) (57.4.0)\n",
            "Requirement already satisfied: keras<2.10.0,>=2.9.0rc0 in /usr/local/lib/python3.8/dist-packages (from tensorflow) (2.9.0)\n",
            "Requirement already satisfied: tensorflow-estimator<2.10.0,>=2.9.0rc0 in /usr/local/lib/python3.8/dist-packages (from tensorflow) (2.9.0)\n",
            "Requirement already satisfied: six>=1.12.0 in /usr/local/lib/python3.8/dist-packages (from tensorflow) (1.15.0)\n",
            "Requirement already satisfied: flatbuffers<2,>=1.12 in /usr/local/lib/python3.8/dist-packages (from tensorflow) (1.12)\n",
            "Requirement already satisfied: h5py>=2.9.0 in /usr/local/lib/python3.8/dist-packages (from tensorflow) (3.1.0)\n",
            "Requirement already satisfied: wheel<1.0,>=0.23.0 in /usr/local/lib/python3.8/dist-packages (from astunparse>=1.6.0->tensorflow) (0.38.4)\n",
            "Requirement already satisfied: tensorboard-plugin-wit>=1.6.0 in /usr/local/lib/python3.8/dist-packages (from tensorboard<2.10,>=2.9->tensorflow) (1.8.1)\n",
            "Requirement already satisfied: google-auth-oauthlib<0.5,>=0.4.1 in /usr/local/lib/python3.8/dist-packages (from tensorboard<2.10,>=2.9->tensorflow) (0.4.6)\n",
            "Requirement already satisfied: werkzeug>=1.0.1 in /usr/local/lib/python3.8/dist-packages (from tensorboard<2.10,>=2.9->tensorflow) (1.0.1)\n",
            "Requirement already satisfied: markdown>=2.6.8 in /usr/local/lib/python3.8/dist-packages (from tensorboard<2.10,>=2.9->tensorflow) (3.4.1)\n",
            "Requirement already satisfied: requests<3,>=2.21.0 in /usr/local/lib/python3.8/dist-packages (from tensorboard<2.10,>=2.9->tensorflow) (2.23.0)\n",
            "Requirement already satisfied: google-auth<3,>=1.6.3 in /usr/local/lib/python3.8/dist-packages (from tensorboard<2.10,>=2.9->tensorflow) (2.15.0)\n",
            "Requirement already satisfied: tensorboard-data-server<0.7.0,>=0.6.0 in /usr/local/lib/python3.8/dist-packages (from tensorboard<2.10,>=2.9->tensorflow) (0.6.1)\n",
            "Requirement already satisfied: rsa<5,>=3.1.4 in /usr/local/lib/python3.8/dist-packages (from google-auth<3,>=1.6.3->tensorboard<2.10,>=2.9->tensorflow) (4.9)\n",
            "Requirement already satisfied: cachetools<6.0,>=2.0.0 in /usr/local/lib/python3.8/dist-packages (from google-auth<3,>=1.6.3->tensorboard<2.10,>=2.9->tensorflow) (5.2.0)\n",
            "Requirement already satisfied: pyasn1-modules>=0.2.1 in /usr/local/lib/python3.8/dist-packages (from google-auth<3,>=1.6.3->tensorboard<2.10,>=2.9->tensorflow) (0.2.8)\n",
            "Requirement already satisfied: requests-oauthlib>=0.7.0 in /usr/local/lib/python3.8/dist-packages (from google-auth-oauthlib<0.5,>=0.4.1->tensorboard<2.10,>=2.9->tensorflow) (1.3.1)\n",
            "Requirement already satisfied: importlib-metadata>=4.4 in /usr/local/lib/python3.8/dist-packages (from markdown>=2.6.8->tensorboard<2.10,>=2.9->tensorflow) (5.1.0)\n",
            "Requirement already satisfied: zipp>=0.5 in /usr/local/lib/python3.8/dist-packages (from importlib-metadata>=4.4->markdown>=2.6.8->tensorboard<2.10,>=2.9->tensorflow) (3.11.0)\n",
            "Requirement already satisfied: pyasn1<0.5.0,>=0.4.6 in /usr/local/lib/python3.8/dist-packages (from pyasn1-modules>=0.2.1->google-auth<3,>=1.6.3->tensorboard<2.10,>=2.9->tensorflow) (0.4.8)\n",
            "Requirement already satisfied: idna<3,>=2.5 in /usr/local/lib/python3.8/dist-packages (from requests<3,>=2.21.0->tensorboard<2.10,>=2.9->tensorflow) (2.10)\n",
            "Requirement already satisfied: certifi>=2017.4.17 in /usr/local/lib/python3.8/dist-packages (from requests<3,>=2.21.0->tensorboard<2.10,>=2.9->tensorflow) (2022.12.7)\n",
            "Requirement already satisfied: chardet<4,>=3.0.2 in /usr/local/lib/python3.8/dist-packages (from requests<3,>=2.21.0->tensorboard<2.10,>=2.9->tensorflow) (3.0.4)\n",
            "Requirement already satisfied: urllib3!=1.25.0,!=1.25.1,<1.26,>=1.21.1 in /usr/local/lib/python3.8/dist-packages (from requests<3,>=2.21.0->tensorboard<2.10,>=2.9->tensorflow) (1.24.3)\n",
            "Requirement already satisfied: oauthlib>=3.0.0 in /usr/local/lib/python3.8/dist-packages (from requests-oauthlib>=0.7.0->google-auth-oauthlib<0.5,>=0.4.1->tensorboard<2.10,>=2.9->tensorflow) (3.2.2)\n",
            "Requirement already satisfied: pyparsing!=3.0.5,>=2.0.2 in /usr/local/lib/python3.8/dist-packages (from packaging->tensorflow) (3.0.9)\n"
          ]
        }
      ]
    },
    {
      "cell_type": "code",
      "source": [
        "pip install matplotlib"
      ],
      "metadata": {
        "colab": {
          "base_uri": "https://localhost:8080/"
        },
        "id": "w8UOYH0ql30c",
        "outputId": "d79a3350-c6b3-41a2-e67e-7ffb9a030f79"
      },
      "execution_count": 55,
      "outputs": [
        {
          "output_type": "stream",
          "name": "stdout",
          "text": [
            "Looking in indexes: https://pypi.org/simple, https://us-python.pkg.dev/colab-wheels/public/simple/\n",
            "Requirement already satisfied: matplotlib in /usr/local/lib/python3.8/dist-packages (3.2.2)\n",
            "Requirement already satisfied: python-dateutil>=2.1 in /usr/local/lib/python3.8/dist-packages (from matplotlib) (2.8.2)\n",
            "Requirement already satisfied: kiwisolver>=1.0.1 in /usr/local/lib/python3.8/dist-packages (from matplotlib) (1.4.4)\n",
            "Requirement already satisfied: numpy>=1.11 in /usr/local/lib/python3.8/dist-packages (from matplotlib) (1.21.6)\n",
            "Requirement already satisfied: cycler>=0.10 in /usr/local/lib/python3.8/dist-packages (from matplotlib) (0.11.0)\n",
            "Requirement already satisfied: pyparsing!=2.0.4,!=2.1.2,!=2.1.6,>=2.0.1 in /usr/local/lib/python3.8/dist-packages (from matplotlib) (3.0.9)\n",
            "Requirement already satisfied: six>=1.5 in /usr/local/lib/python3.8/dist-packages (from python-dateutil>=2.1->matplotlib) (1.15.0)\n"
          ]
        }
      ]
    },
    {
      "cell_type": "code",
      "source": [
        "import numpy as np\n",
        "import cv2\n",
        "import PIL\n",
        "import PIL.Image as Image\n",
        "import os\n",
        "import matplotlib.pyplot as plt\n",
        "\n",
        "import tensorflow as tf\n",
        "import tensorflow_hub as hub\n",
        "\n",
        "from tensorflow import keras\n",
        "from tensorflow.keras import layers\n",
        "from tensorflow.keras.models import Sequential"
      ],
      "metadata": {
        "id": "Ue_n3Uh8lXD2"
      },
      "execution_count": 56,
      "outputs": []
    },
    {
      "cell_type": "code",
      "source": [
        "IMAGE_SHAPE = (224, 224)\n",
        "\n",
        "classifier = tf.keras.Sequential([\n",
        "    hub.KerasLayer(\"https://tfhub.dev/google/tf2-preview/mobilenet_v2/classification/4\", input_shape=IMAGE_SHAPE+(3,))\n",
        "])"
      ],
      "metadata": {
        "id": "_n3qHhqMlE6F"
      },
      "execution_count": 57,
      "outputs": []
    },
    {
      "cell_type": "code",
      "source": [
        "IMAGE_SHAPE+(3,)"
      ],
      "metadata": {
        "colab": {
          "base_uri": "https://localhost:8080/"
        },
        "id": "DcBTH8PvnIIc",
        "outputId": "ead65905-3f8b-49ef-89f3-fcbf1ee27ab5"
      },
      "execution_count": 58,
      "outputs": [
        {
          "output_type": "execute_result",
          "data": {
            "text/plain": [
              "(224, 224, 3)"
            ]
          },
          "metadata": {},
          "execution_count": 58
        }
      ]
    },
    {
      "cell_type": "code",
      "source": [
        "data_dir = '/content/drive/MyDrive/Skin_Disease'"
      ],
      "metadata": {
        "id": "iQCSKen4oJkZ"
      },
      "execution_count": 59,
      "outputs": []
    },
    {
      "cell_type": "code",
      "source": [
        "import pathlib \n",
        "data_dir = pathlib.Path(data_dir)\n",
        "data_dir"
      ],
      "metadata": {
        "colab": {
          "base_uri": "https://localhost:8080/"
        },
        "id": "ahOsSf-_ojS0",
        "outputId": "21bc7c98-66cd-42ac-fa3a-3c72c84af88d"
      },
      "execution_count": 60,
      "outputs": [
        {
          "output_type": "execute_result",
          "data": {
            "text/plain": [
              "PosixPath('/content/drive/MyDrive/Skin_Disease')"
            ]
          },
          "metadata": {},
          "execution_count": 60
        }
      ]
    },
    {
      "cell_type": "code",
      "source": [
        "list(data_dir.glob('*/*.jpg'))[:4]"
      ],
      "metadata": {
        "colab": {
          "base_uri": "https://localhost:8080/"
        },
        "id": "yPuQMxBWo_Qz",
        "outputId": "b3ed00af-4929-4657-9953-c00bf1ad9157"
      },
      "execution_count": 61,
      "outputs": [
        {
          "output_type": "execute_result",
          "data": {
            "text/plain": [
              "[PosixPath('/content/drive/MyDrive/Skin_Disease/Melanoma Skin Cancer Nevi and Moles/atypical-nevi-dermoscopy-98.jpg'),\n",
              " PosixPath('/content/drive/MyDrive/Skin_Disease/Melanoma Skin Cancer Nevi and Moles/congenital-nevus-27.jpg'),\n",
              " PosixPath('/content/drive/MyDrive/Skin_Disease/Melanoma Skin Cancer Nevi and Moles/congenital-nevus-32.jpg'),\n",
              " PosixPath('/content/drive/MyDrive/Skin_Disease/Melanoma Skin Cancer Nevi and Moles/atypical-nevi-26.jpg')]"
            ]
          },
          "metadata": {},
          "execution_count": 61
        }
      ]
    },
    {
      "cell_type": "code",
      "source": [
        "image_count = len(list(data_dir.glob('*/*.jpg')))\n",
        "print(image_count)"
      ],
      "metadata": {
        "colab": {
          "base_uri": "https://localhost:8080/"
        },
        "id": "vJEDngdkpLrT",
        "outputId": "89f1c4c3-47fa-4d2d-fee0-a41530e08704"
      },
      "execution_count": 62,
      "outputs": [
        {
          "output_type": "stream",
          "name": "stdout",
          "text": [
            "3592\n"
          ]
        }
      ]
    },
    {
      "cell_type": "code",
      "source": [
        "Melanoma = list(data_dir.glob('Melanoma Skin Cancer Nevi and Moles/*'))\n",
        "Melanoma[:5]"
      ],
      "metadata": {
        "colab": {
          "base_uri": "https://localhost:8080/"
        },
        "id": "ORLxEjDCpcyL",
        "outputId": "20f9b329-da62-4d90-d7f5-138065739dc0"
      },
      "execution_count": 63,
      "outputs": [
        {
          "output_type": "execute_result",
          "data": {
            "text/plain": [
              "[PosixPath('/content/drive/MyDrive/Skin_Disease/Melanoma Skin Cancer Nevi and Moles/atypical-nevi-dermoscopy-98.jpg'),\n",
              " PosixPath('/content/drive/MyDrive/Skin_Disease/Melanoma Skin Cancer Nevi and Moles/congenital-nevus-27.jpg'),\n",
              " PosixPath('/content/drive/MyDrive/Skin_Disease/Melanoma Skin Cancer Nevi and Moles/congenital-nevus-32.jpg'),\n",
              " PosixPath('/content/drive/MyDrive/Skin_Disease/Melanoma Skin Cancer Nevi and Moles/atypical-nevi-26.jpg'),\n",
              " PosixPath('/content/drive/MyDrive/Skin_Disease/Melanoma Skin Cancer Nevi and Moles/congenital-nevus-55.jpg')]"
            ]
          },
          "metadata": {},
          "execution_count": 63
        }
      ]
    },
    {
      "cell_type": "code",
      "source": [
        "diseases_images_dict = {\n",
        "    'Melanoma' : list(data_dir.glob('Melanoma Skin Cancer Nevi and Moles/*')),\n",
        "    'Eczema' : list(data_dir.glob('Eczema Photos/*')),\n",
        "    'Dermatitis' : list(data_dir.glob('Atopic Dermatitis Photos/*')),\n",
        "    'Psoriasis' : list(data_dir.glob('Psoriasis pictures Lichen Planus and related diseases/*')),\n",
        "}"
      ],
      "metadata": {
        "id": "2IboTMZaqYP1"
      },
      "execution_count": 64,
      "outputs": []
    },
    {
      "cell_type": "code",
      "source": [
        "diseases_images_dict['Melanoma']"
      ],
      "metadata": {
        "colab": {
          "base_uri": "https://localhost:8080/"
        },
        "id": "JFqKNR9brVpL",
        "outputId": "47e6168b-d783-44b4-abd0-47efa7449650"
      },
      "execution_count": 65,
      "outputs": [
        {
          "output_type": "execute_result",
          "data": {
            "text/plain": [
              "[PosixPath('/content/drive/MyDrive/Skin_Disease/Melanoma Skin Cancer Nevi and Moles/atypical-nevi-dermoscopy-98.jpg'),\n",
              " PosixPath('/content/drive/MyDrive/Skin_Disease/Melanoma Skin Cancer Nevi and Moles/congenital-nevus-27.jpg'),\n",
              " PosixPath('/content/drive/MyDrive/Skin_Disease/Melanoma Skin Cancer Nevi and Moles/congenital-nevus-32.jpg'),\n",
              " PosixPath('/content/drive/MyDrive/Skin_Disease/Melanoma Skin Cancer Nevi and Moles/atypical-nevi-26.jpg'),\n",
              " PosixPath('/content/drive/MyDrive/Skin_Disease/Melanoma Skin Cancer Nevi and Moles/congenital-nevus-55.jpg'),\n",
              " PosixPath('/content/drive/MyDrive/Skin_Disease/Melanoma Skin Cancer Nevi and Moles/atypical-nevi-44.jpg'),\n",
              " PosixPath('/content/drive/MyDrive/Skin_Disease/Melanoma Skin Cancer Nevi and Moles/atypical-nevi-trunk-10.jpg'),\n",
              " PosixPath('/content/drive/MyDrive/Skin_Disease/Melanoma Skin Cancer Nevi and Moles/atypical-nevi-dermoscopy-79.jpg'),\n",
              " PosixPath('/content/drive/MyDrive/Skin_Disease/Melanoma Skin Cancer Nevi and Moles/atypical-nevi-47.jpg'),\n",
              " PosixPath('/content/drive/MyDrive/Skin_Disease/Melanoma Skin Cancer Nevi and Moles/blue-nevus-1.jpg'),\n",
              " PosixPath('/content/drive/MyDrive/Skin_Disease/Melanoma Skin Cancer Nevi and Moles/becker-nevus-1.jpg'),\n",
              " PosixPath('/content/drive/MyDrive/Skin_Disease/Melanoma Skin Cancer Nevi and Moles/becker-nevus-27.jpg'),\n",
              " PosixPath('/content/drive/MyDrive/Skin_Disease/Melanoma Skin Cancer Nevi and Moles/atypical-nevi-54.jpg'),\n",
              " PosixPath('/content/drive/MyDrive/Skin_Disease/Melanoma Skin Cancer Nevi and Moles/blue-nevus-ota-5.jpg'),\n",
              " PosixPath('/content/drive/MyDrive/Skin_Disease/Melanoma Skin Cancer Nevi and Moles/blue-nevus-ota-8.jpg'),\n",
              " PosixPath('/content/drive/MyDrive/Skin_Disease/Melanoma Skin Cancer Nevi and Moles/atypical-nevi-dermoscopy-2.jpg'),\n",
              " PosixPath('/content/drive/MyDrive/Skin_Disease/Melanoma Skin Cancer Nevi and Moles/congenital-nevus-40.jpg'),\n",
              " PosixPath('/content/drive/MyDrive/Skin_Disease/Melanoma Skin Cancer Nevi and Moles/atypical-nevi-21.jpg'),\n",
              " PosixPath('/content/drive/MyDrive/Skin_Disease/Melanoma Skin Cancer Nevi and Moles/blue-nevus-4.jpg'),\n",
              " PosixPath('/content/drive/MyDrive/Skin_Disease/Melanoma Skin Cancer Nevi and Moles/becker-nevus-26.jpg'),\n",
              " PosixPath('/content/drive/MyDrive/Skin_Disease/Melanoma Skin Cancer Nevi and Moles/congenital-nevus-25.jpg'),\n",
              " PosixPath('/content/drive/MyDrive/Skin_Disease/Melanoma Skin Cancer Nevi and Moles/atypical-nevi-trunk-14.jpg'),\n",
              " PosixPath('/content/drive/MyDrive/Skin_Disease/Melanoma Skin Cancer Nevi and Moles/atypical-nevi-42.jpg'),\n",
              " PosixPath('/content/drive/MyDrive/Skin_Disease/Melanoma Skin Cancer Nevi and Moles/blue-nevus-12.jpg'),\n",
              " PosixPath('/content/drive/MyDrive/Skin_Disease/Melanoma Skin Cancer Nevi and Moles/atypical-nevi-11.jpg'),\n",
              " PosixPath('/content/drive/MyDrive/Skin_Disease/Melanoma Skin Cancer Nevi and Moles/blue-nevus-9.jpg'),\n",
              " PosixPath('/content/drive/MyDrive/Skin_Disease/Melanoma Skin Cancer Nevi and Moles/becker-nevus-13.jpg'),\n",
              " PosixPath('/content/drive/MyDrive/Skin_Disease/Melanoma Skin Cancer Nevi and Moles/atypical-nevi-dermoscopy-66.jpg'),\n",
              " PosixPath('/content/drive/MyDrive/Skin_Disease/Melanoma Skin Cancer Nevi and Moles/blue-nevus-ota-10.jpg'),\n",
              " PosixPath('/content/drive/MyDrive/Skin_Disease/Melanoma Skin Cancer Nevi and Moles/congenital-nevus-6.jpg'),\n",
              " PosixPath('/content/drive/MyDrive/Skin_Disease/Melanoma Skin Cancer Nevi and Moles/atypical-nevi-dermoscopy-64.jpg'),\n",
              " PosixPath('/content/drive/MyDrive/Skin_Disease/Melanoma Skin Cancer Nevi and Moles/atypical-nevi-trunk-5.jpg'),\n",
              " PosixPath('/content/drive/MyDrive/Skin_Disease/Melanoma Skin Cancer Nevi and Moles/atypical-nevi-dermoscopy-100.jpg'),\n",
              " PosixPath('/content/drive/MyDrive/Skin_Disease/Melanoma Skin Cancer Nevi and Moles/atypical-nevi-22.jpg'),\n",
              " PosixPath('/content/drive/MyDrive/Skin_Disease/Melanoma Skin Cancer Nevi and Moles/congenital-nevus-46.jpg'),\n",
              " PosixPath('/content/drive/MyDrive/Skin_Disease/Melanoma Skin Cancer Nevi and Moles/halo-nevus-16.jpg'),\n",
              " PosixPath('/content/drive/MyDrive/Skin_Disease/Melanoma Skin Cancer Nevi and Moles/congenital-nevus-54.jpg'),\n",
              " PosixPath('/content/drive/MyDrive/Skin_Disease/Melanoma Skin Cancer Nevi and Moles/atypical-nevi-dermoscopy-61.jpg'),\n",
              " PosixPath('/content/drive/MyDrive/Skin_Disease/Melanoma Skin Cancer Nevi and Moles/atypical-nevi-14.jpg'),\n",
              " PosixPath('/content/drive/MyDrive/Skin_Disease/Melanoma Skin Cancer Nevi and Moles/atypical-nevi-15.jpg'),\n",
              " PosixPath('/content/drive/MyDrive/Skin_Disease/Melanoma Skin Cancer Nevi and Moles/atypical-nevi-dermoscopy-74.jpg'),\n",
              " PosixPath('/content/drive/MyDrive/Skin_Disease/Melanoma Skin Cancer Nevi and Moles/atypical-nevi-dermoscopy-1.jpg'),\n",
              " PosixPath('/content/drive/MyDrive/Skin_Disease/Melanoma Skin Cancer Nevi and Moles/atypical-nevi-41.jpg'),\n",
              " PosixPath('/content/drive/MyDrive/Skin_Disease/Melanoma Skin Cancer Nevi and Moles/atypical-nevi-trunk-12.jpg'),\n",
              " PosixPath('/content/drive/MyDrive/Skin_Disease/Melanoma Skin Cancer Nevi and Moles/congenital-nevus-45.jpg'),\n",
              " PosixPath('/content/drive/MyDrive/Skin_Disease/Melanoma Skin Cancer Nevi and Moles/atypical-nevi-dermoscopy-70.jpg'),\n",
              " PosixPath('/content/drive/MyDrive/Skin_Disease/Melanoma Skin Cancer Nevi and Moles/atypical-nevi-30.jpg'),\n",
              " PosixPath('/content/drive/MyDrive/Skin_Disease/Melanoma Skin Cancer Nevi and Moles/blue-nevus-3.jpg'),\n",
              " PosixPath('/content/drive/MyDrive/Skin_Disease/Melanoma Skin Cancer Nevi and Moles/atypical-nevi-trunk-13.jpg'),\n",
              " PosixPath('/content/drive/MyDrive/Skin_Disease/Melanoma Skin Cancer Nevi and Moles/blue-nevus-8.jpg'),\n",
              " PosixPath('/content/drive/MyDrive/Skin_Disease/Melanoma Skin Cancer Nevi and Moles/becker-nevus-33.jpg'),\n",
              " PosixPath('/content/drive/MyDrive/Skin_Disease/Melanoma Skin Cancer Nevi and Moles/halo-nevus-1.jpg'),\n",
              " PosixPath('/content/drive/MyDrive/Skin_Disease/Melanoma Skin Cancer Nevi and Moles/atypical-nevi-dermoscopy-80.jpg'),\n",
              " PosixPath('/content/drive/MyDrive/Skin_Disease/Melanoma Skin Cancer Nevi and Moles/atypical-nevi-29.jpg'),\n",
              " PosixPath('/content/drive/MyDrive/Skin_Disease/Melanoma Skin Cancer Nevi and Moles/halo-nevus-13.jpg'),\n",
              " PosixPath('/content/drive/MyDrive/Skin_Disease/Melanoma Skin Cancer Nevi and Moles/atypical-nevi-16.jpg'),\n",
              " PosixPath('/content/drive/MyDrive/Skin_Disease/Melanoma Skin Cancer Nevi and Moles/congenital-nevus-16.jpg'),\n",
              " PosixPath('/content/drive/MyDrive/Skin_Disease/Melanoma Skin Cancer Nevi and Moles/atypical-nevi-trunk-3.jpg'),\n",
              " PosixPath('/content/drive/MyDrive/Skin_Disease/Melanoma Skin Cancer Nevi and Moles/atypical-nevi-dermoscopy-115.jpg'),\n",
              " PosixPath('/content/drive/MyDrive/Skin_Disease/Melanoma Skin Cancer Nevi and Moles/halo-nevus-24.jpg'),\n",
              " PosixPath('/content/drive/MyDrive/Skin_Disease/Melanoma Skin Cancer Nevi and Moles/atypical-nevi-dermoscopy-110.jpg'),\n",
              " PosixPath('/content/drive/MyDrive/Skin_Disease/Melanoma Skin Cancer Nevi and Moles/atypical-nevi-dermoscopy-85.jpg'),\n",
              " PosixPath('/content/drive/MyDrive/Skin_Disease/Melanoma Skin Cancer Nevi and Moles/congenital-nevus-48.jpg'),\n",
              " PosixPath('/content/drive/MyDrive/Skin_Disease/Melanoma Skin Cancer Nevi and Moles/atypical-nevi-39.jpg'),\n",
              " PosixPath('/content/drive/MyDrive/Skin_Disease/Melanoma Skin Cancer Nevi and Moles/blue-nevus-14.jpg'),\n",
              " PosixPath('/content/drive/MyDrive/Skin_Disease/Melanoma Skin Cancer Nevi and Moles/congenital-nevus-8.jpg'),\n",
              " PosixPath('/content/drive/MyDrive/Skin_Disease/Melanoma Skin Cancer Nevi and Moles/congenital-nevus-20.jpg'),\n",
              " PosixPath('/content/drive/MyDrive/Skin_Disease/Melanoma Skin Cancer Nevi and Moles/becker-nevus-23.jpg'),\n",
              " PosixPath('/content/drive/MyDrive/Skin_Disease/Melanoma Skin Cancer Nevi and Moles/congenital-nevus-15.jpg'),\n",
              " PosixPath('/content/drive/MyDrive/Skin_Disease/Melanoma Skin Cancer Nevi and Moles/becker-nevus-35.jpg'),\n",
              " PosixPath('/content/drive/MyDrive/Skin_Disease/Melanoma Skin Cancer Nevi and Moles/atypical-nevi-dermoscopy-114.jpg'),\n",
              " PosixPath('/content/drive/MyDrive/Skin_Disease/Melanoma Skin Cancer Nevi and Moles/blue-nevus-10.jpg'),\n",
              " PosixPath('/content/drive/MyDrive/Skin_Disease/Melanoma Skin Cancer Nevi and Moles/atypical-nevi-dermoscopy-105.jpg'),\n",
              " PosixPath('/content/drive/MyDrive/Skin_Disease/Melanoma Skin Cancer Nevi and Moles/becker-nevus-6.jpg'),\n",
              " PosixPath('/content/drive/MyDrive/Skin_Disease/Melanoma Skin Cancer Nevi and Moles/becker-nevus-3.jpg'),\n",
              " PosixPath('/content/drive/MyDrive/Skin_Disease/Melanoma Skin Cancer Nevi and Moles/atypical-nevi-13.jpg'),\n",
              " PosixPath('/content/drive/MyDrive/Skin_Disease/Melanoma Skin Cancer Nevi and Moles/congenital-nevus-34.jpg'),\n",
              " PosixPath('/content/drive/MyDrive/Skin_Disease/Melanoma Skin Cancer Nevi and Moles/atypical-nevi-dermoscopy-107.jpg'),\n",
              " PosixPath('/content/drive/MyDrive/Skin_Disease/Melanoma Skin Cancer Nevi and Moles/atypical-nevi-trunk-11.jpg'),\n",
              " PosixPath('/content/drive/MyDrive/Skin_Disease/Melanoma Skin Cancer Nevi and Moles/atypical-nevi-dermoscopy-94.jpg'),\n",
              " PosixPath('/content/drive/MyDrive/Skin_Disease/Melanoma Skin Cancer Nevi and Moles/congenital-nevus-41.jpg'),\n",
              " PosixPath('/content/drive/MyDrive/Skin_Disease/Melanoma Skin Cancer Nevi and Moles/atypical-nevi-dermoscopy-83.jpg'),\n",
              " PosixPath('/content/drive/MyDrive/Skin_Disease/Melanoma Skin Cancer Nevi and Moles/congenital-nevus-51.jpg'),\n",
              " PosixPath('/content/drive/MyDrive/Skin_Disease/Melanoma Skin Cancer Nevi and Moles/becker-nevus-15.jpg'),\n",
              " PosixPath('/content/drive/MyDrive/Skin_Disease/Melanoma Skin Cancer Nevi and Moles/atypical-nevi-43.jpg'),\n",
              " PosixPath('/content/drive/MyDrive/Skin_Disease/Melanoma Skin Cancer Nevi and Moles/halo-nevus-15.jpg'),\n",
              " PosixPath('/content/drive/MyDrive/Skin_Disease/Melanoma Skin Cancer Nevi and Moles/atypical-nevi-trunk-6.jpg'),\n",
              " PosixPath('/content/drive/MyDrive/Skin_Disease/Melanoma Skin Cancer Nevi and Moles/becker-nevus-30.jpg'),\n",
              " PosixPath('/content/drive/MyDrive/Skin_Disease/Melanoma Skin Cancer Nevi and Moles/congenital-nevus-47.jpg'),\n",
              " PosixPath('/content/drive/MyDrive/Skin_Disease/Melanoma Skin Cancer Nevi and Moles/blue-nevus-ota-7.jpg'),\n",
              " PosixPath('/content/drive/MyDrive/Skin_Disease/Melanoma Skin Cancer Nevi and Moles/congenital-nevus-37.jpg'),\n",
              " PosixPath('/content/drive/MyDrive/Skin_Disease/Melanoma Skin Cancer Nevi and Moles/congenital-nevus-5.jpg'),\n",
              " PosixPath('/content/drive/MyDrive/Skin_Disease/Melanoma Skin Cancer Nevi and Moles/congenital-nevus-42.jpg'),\n",
              " PosixPath('/content/drive/MyDrive/Skin_Disease/Melanoma Skin Cancer Nevi and Moles/atypical-nevi-dermoscopy-99.jpg'),\n",
              " PosixPath('/content/drive/MyDrive/Skin_Disease/Melanoma Skin Cancer Nevi and Moles/congenital-nevus-39.jpg'),\n",
              " PosixPath('/content/drive/MyDrive/Skin_Disease/Melanoma Skin Cancer Nevi and Moles/congenital-nevus-12.jpg'),\n",
              " PosixPath('/content/drive/MyDrive/Skin_Disease/Melanoma Skin Cancer Nevi and Moles/atypical-nevi-dermoscopy-102.jpg'),\n",
              " PosixPath('/content/drive/MyDrive/Skin_Disease/Melanoma Skin Cancer Nevi and Moles/halo-nevus-20.jpg'),\n",
              " PosixPath('/content/drive/MyDrive/Skin_Disease/Melanoma Skin Cancer Nevi and Moles/becker-nevus-29.jpg'),\n",
              " PosixPath('/content/drive/MyDrive/Skin_Disease/Melanoma Skin Cancer Nevi and Moles/becker-nevus-17.jpg'),\n",
              " PosixPath('/content/drive/MyDrive/Skin_Disease/Melanoma Skin Cancer Nevi and Moles/congenital-nevus-53.jpg'),\n",
              " PosixPath('/content/drive/MyDrive/Skin_Disease/Melanoma Skin Cancer Nevi and Moles/congenital-nevus-22.jpg'),\n",
              " PosixPath('/content/drive/MyDrive/Skin_Disease/Melanoma Skin Cancer Nevi and Moles/atypical-nevi-dermoscopy-69.jpg'),\n",
              " PosixPath('/content/drive/MyDrive/Skin_Disease/Melanoma Skin Cancer Nevi and Moles/atypical-nevi-38.jpg'),\n",
              " PosixPath('/content/drive/MyDrive/Skin_Disease/Melanoma Skin Cancer Nevi and Moles/atypical-nevi-dermoscopy-3.jpg'),\n",
              " PosixPath('/content/drive/MyDrive/Skin_Disease/Melanoma Skin Cancer Nevi and Moles/becker-nevus-11.jpg'),\n",
              " PosixPath('/content/drive/MyDrive/Skin_Disease/Melanoma Skin Cancer Nevi and Moles/congenital-nevus-26.jpg'),\n",
              " PosixPath('/content/drive/MyDrive/Skin_Disease/Melanoma Skin Cancer Nevi and Moles/blue-nevus-13.jpg'),\n",
              " PosixPath('/content/drive/MyDrive/Skin_Disease/Melanoma Skin Cancer Nevi and Moles/atypical-nevi-9.jpg'),\n",
              " PosixPath('/content/drive/MyDrive/Skin_Disease/Melanoma Skin Cancer Nevi and Moles/halo-nevus-23.jpg'),\n",
              " PosixPath('/content/drive/MyDrive/Skin_Disease/Melanoma Skin Cancer Nevi and Moles/congenital-nevus-2.jpg'),\n",
              " PosixPath('/content/drive/MyDrive/Skin_Disease/Melanoma Skin Cancer Nevi and Moles/congenital-nevus-14.jpg'),\n",
              " PosixPath('/content/drive/MyDrive/Skin_Disease/Melanoma Skin Cancer Nevi and Moles/atypical-nevi-50.jpg'),\n",
              " PosixPath('/content/drive/MyDrive/Skin_Disease/Melanoma Skin Cancer Nevi and Moles/atypical-nevi-dermoscopy-67.jpg'),\n",
              " PosixPath('/content/drive/MyDrive/Skin_Disease/Melanoma Skin Cancer Nevi and Moles/atypical-nevi-dermoscopy-104.jpg'),\n",
              " PosixPath('/content/drive/MyDrive/Skin_Disease/Melanoma Skin Cancer Nevi and Moles/becker-nevus-31.jpg'),\n",
              " PosixPath('/content/drive/MyDrive/Skin_Disease/Melanoma Skin Cancer Nevi and Moles/atypical-nevi-trunk-16.jpg'),\n",
              " PosixPath('/content/drive/MyDrive/Skin_Disease/Melanoma Skin Cancer Nevi and Moles/congenital-nevus-49.jpg'),\n",
              " PosixPath('/content/drive/MyDrive/Skin_Disease/Melanoma Skin Cancer Nevi and Moles/halo-nevus-14.jpg'),\n",
              " PosixPath('/content/drive/MyDrive/Skin_Disease/Melanoma Skin Cancer Nevi and Moles/blue-nevus-11.jpg'),\n",
              " PosixPath('/content/drive/MyDrive/Skin_Disease/Melanoma Skin Cancer Nevi and Moles/congenital-nevus-10.jpg'),\n",
              " PosixPath('/content/drive/MyDrive/Skin_Disease/Melanoma Skin Cancer Nevi and Moles/becker-nevus-34.jpg'),\n",
              " PosixPath('/content/drive/MyDrive/Skin_Disease/Melanoma Skin Cancer Nevi and Moles/congenital-nevus-4.jpg'),\n",
              " PosixPath('/content/drive/MyDrive/Skin_Disease/Melanoma Skin Cancer Nevi and Moles/atypical-nevi-trunk-15.jpg'),\n",
              " PosixPath('/content/drive/MyDrive/Skin_Disease/Melanoma Skin Cancer Nevi and Moles/halo-nevus-2.jpg'),\n",
              " PosixPath('/content/drive/MyDrive/Skin_Disease/Melanoma Skin Cancer Nevi and Moles/congenital-nevus-43.jpg'),\n",
              " PosixPath('/content/drive/MyDrive/Skin_Disease/Melanoma Skin Cancer Nevi and Moles/blue-nevus-ota-2.jpg'),\n",
              " PosixPath('/content/drive/MyDrive/Skin_Disease/Melanoma Skin Cancer Nevi and Moles/congenital-nevus-52.jpg'),\n",
              " PosixPath('/content/drive/MyDrive/Skin_Disease/Melanoma Skin Cancer Nevi and Moles/atypical-nevi-dermoscopy-86.jpg'),\n",
              " PosixPath('/content/drive/MyDrive/Skin_Disease/Melanoma Skin Cancer Nevi and Moles/congenital-nevus-36.jpg'),\n",
              " PosixPath('/content/drive/MyDrive/Skin_Disease/Melanoma Skin Cancer Nevi and Moles/atypical-nevi-trunk-8.jpg'),\n",
              " PosixPath('/content/drive/MyDrive/Skin_Disease/Melanoma Skin Cancer Nevi and Moles/atypical-nevi-46.jpg'),\n",
              " PosixPath('/content/drive/MyDrive/Skin_Disease/Melanoma Skin Cancer Nevi and Moles/atypical-nevi-8.jpg'),\n",
              " PosixPath('/content/drive/MyDrive/Skin_Disease/Melanoma Skin Cancer Nevi and Moles/atypical-nevi-dermoscopy-113.jpg'),\n",
              " PosixPath('/content/drive/MyDrive/Skin_Disease/Melanoma Skin Cancer Nevi and Moles/atypical-nevi-dermoscopy-87.jpg'),\n",
              " PosixPath('/content/drive/MyDrive/Skin_Disease/Melanoma Skin Cancer Nevi and Moles/blue-nevus-5.jpg'),\n",
              " PosixPath('/content/drive/MyDrive/Skin_Disease/Melanoma Skin Cancer Nevi and Moles/atypical-nevi-dermoscopy-96.jpg'),\n",
              " PosixPath('/content/drive/MyDrive/Skin_Disease/Melanoma Skin Cancer Nevi and Moles/atypical-nevi-32.jpg'),\n",
              " PosixPath('/content/drive/MyDrive/Skin_Disease/Melanoma Skin Cancer Nevi and Moles/atypical-nevi-37.jpg'),\n",
              " PosixPath('/content/drive/MyDrive/Skin_Disease/Melanoma Skin Cancer Nevi and Moles/atypical-nevi-27.jpg'),\n",
              " PosixPath('/content/drive/MyDrive/Skin_Disease/Melanoma Skin Cancer Nevi and Moles/atypical-nevi-dermoscopy-116.jpg'),\n",
              " PosixPath('/content/drive/MyDrive/Skin_Disease/Melanoma Skin Cancer Nevi and Moles/blue-nevus-ota-9.jpg'),\n",
              " PosixPath('/content/drive/MyDrive/Skin_Disease/Melanoma Skin Cancer Nevi and Moles/atypical-nevi-trunk-19.jpg'),\n",
              " PosixPath('/content/drive/MyDrive/Skin_Disease/Melanoma Skin Cancer Nevi and Moles/atypical-nevi-dermoscopy-84.jpg'),\n",
              " PosixPath('/content/drive/MyDrive/Skin_Disease/Melanoma Skin Cancer Nevi and Moles/atypical-nevi-28.jpg'),\n",
              " PosixPath('/content/drive/MyDrive/Skin_Disease/Melanoma Skin Cancer Nevi and Moles/atypical-nevi-53.jpg'),\n",
              " PosixPath('/content/drive/MyDrive/Skin_Disease/Melanoma Skin Cancer Nevi and Moles/atypical-nevi-dermoscopy-93.jpg'),\n",
              " PosixPath('/content/drive/MyDrive/Skin_Disease/Melanoma Skin Cancer Nevi and Moles/atypical-nevi-dermoscopy-62.jpg'),\n",
              " PosixPath('/content/drive/MyDrive/Skin_Disease/Melanoma Skin Cancer Nevi and Moles/congenital-nevus-50.jpg'),\n",
              " PosixPath('/content/drive/MyDrive/Skin_Disease/Melanoma Skin Cancer Nevi and Moles/atypical-nevi-dermoscopy-71.jpg'),\n",
              " PosixPath('/content/drive/MyDrive/Skin_Disease/Melanoma Skin Cancer Nevi and Moles/atypical-nevi-34.jpg'),\n",
              " PosixPath('/content/drive/MyDrive/Skin_Disease/Melanoma Skin Cancer Nevi and Moles/atypical-nevi-24.jpg'),\n",
              " PosixPath('/content/drive/MyDrive/Skin_Disease/Melanoma Skin Cancer Nevi and Moles/congenital-nevus-38.jpg'),\n",
              " PosixPath('/content/drive/MyDrive/Skin_Disease/Melanoma Skin Cancer Nevi and Moles/congenital-nevus-28.jpg'),\n",
              " PosixPath('/content/drive/MyDrive/Skin_Disease/Melanoma Skin Cancer Nevi and Moles/becker-nevus-18.jpg'),\n",
              " PosixPath('/content/drive/MyDrive/Skin_Disease/Melanoma Skin Cancer Nevi and Moles/atypical-nevi-dermoscopy-72.jpg'),\n",
              " PosixPath('/content/drive/MyDrive/Skin_Disease/Melanoma Skin Cancer Nevi and Moles/becker-nevus-16.jpg'),\n",
              " PosixPath('/content/drive/MyDrive/Skin_Disease/Melanoma Skin Cancer Nevi and Moles/atypical-nevi-31.jpg'),\n",
              " PosixPath('/content/drive/MyDrive/Skin_Disease/Melanoma Skin Cancer Nevi and Moles/atypical-nevi-dermoscopy-76.jpg'),\n",
              " PosixPath('/content/drive/MyDrive/Skin_Disease/Melanoma Skin Cancer Nevi and Moles/becker-nevus-28.jpg'),\n",
              " PosixPath('/content/drive/MyDrive/Skin_Disease/Melanoma Skin Cancer Nevi and Moles/atypical-nevi-dermoscopy-65.jpg'),\n",
              " PosixPath('/content/drive/MyDrive/Skin_Disease/Melanoma Skin Cancer Nevi and Moles/atypical-nevi-trunk-4.jpg'),\n",
              " PosixPath('/content/drive/MyDrive/Skin_Disease/Melanoma Skin Cancer Nevi and Moles/halo-nevus-18.jpg'),\n",
              " PosixPath('/content/drive/MyDrive/Skin_Disease/Melanoma Skin Cancer Nevi and Moles/blue-nevus-ota-6.jpg'),\n",
              " PosixPath('/content/drive/MyDrive/Skin_Disease/Melanoma Skin Cancer Nevi and Moles/atypical-nevi-51.jpg'),\n",
              " PosixPath('/content/drive/MyDrive/Skin_Disease/Melanoma Skin Cancer Nevi and Moles/atypical-nevi-dermoscopy-73.jpg'),\n",
              " PosixPath('/content/drive/MyDrive/Skin_Disease/Melanoma Skin Cancer Nevi and Moles/atypical-nevi-dermoscopy-92.jpg'),\n",
              " PosixPath('/content/drive/MyDrive/Skin_Disease/Melanoma Skin Cancer Nevi and Moles/congenital-nevus-29.jpg'),\n",
              " PosixPath('/content/drive/MyDrive/Skin_Disease/Melanoma Skin Cancer Nevi and Moles/congenital-nevus-18.jpg'),\n",
              " PosixPath('/content/drive/MyDrive/Skin_Disease/Melanoma Skin Cancer Nevi and Moles/congenital-nevus-3.jpg'),\n",
              " PosixPath('/content/drive/MyDrive/Skin_Disease/Melanoma Skin Cancer Nevi and Moles/congenital-nevus-33.jpg'),\n",
              " PosixPath('/content/drive/MyDrive/Skin_Disease/Melanoma Skin Cancer Nevi and Moles/blue-nevus-2.jpg'),\n",
              " PosixPath('/content/drive/MyDrive/Skin_Disease/Melanoma Skin Cancer Nevi and Moles/atypical-nevi-40.jpg'),\n",
              " PosixPath('/content/drive/MyDrive/Skin_Disease/Melanoma Skin Cancer Nevi and Moles/becker-nevus-5.jpg'),\n",
              " PosixPath('/content/drive/MyDrive/Skin_Disease/Melanoma Skin Cancer Nevi and Moles/atypical-nevi-20.jpg'),\n",
              " PosixPath('/content/drive/MyDrive/Skin_Disease/Melanoma Skin Cancer Nevi and Moles/atypical-nevi-dermoscopy-75.jpg'),\n",
              " PosixPath('/content/drive/MyDrive/Skin_Disease/Melanoma Skin Cancer Nevi and Moles/atypical-nevi-45.jpg'),\n",
              " PosixPath('/content/drive/MyDrive/Skin_Disease/Melanoma Skin Cancer Nevi and Moles/atypical-nevi-dermoscopy-111.jpg'),\n",
              " PosixPath('/content/drive/MyDrive/Skin_Disease/Melanoma Skin Cancer Nevi and Moles/congenital-nevus-13.jpg'),\n",
              " PosixPath('/content/drive/MyDrive/Skin_Disease/Melanoma Skin Cancer Nevi and Moles/atypical-nevi-dermoscopy-112.jpg'),\n",
              " PosixPath('/content/drive/MyDrive/Skin_Disease/Melanoma Skin Cancer Nevi and Moles/atypical-nevi-17.jpg'),\n",
              " PosixPath('/content/drive/MyDrive/Skin_Disease/Melanoma Skin Cancer Nevi and Moles/blue-nevus-6.jpg'),\n",
              " PosixPath('/content/drive/MyDrive/Skin_Disease/Melanoma Skin Cancer Nevi and Moles/becker-nevus-2.jpg'),\n",
              " PosixPath('/content/drive/MyDrive/Skin_Disease/Melanoma Skin Cancer Nevi and Moles/atypical-nevi-dermoscopy-63.jpg'),\n",
              " PosixPath('/content/drive/MyDrive/Skin_Disease/Melanoma Skin Cancer Nevi and Moles/congenital-nevus-7.jpg'),\n",
              " PosixPath('/content/drive/MyDrive/Skin_Disease/Melanoma Skin Cancer Nevi and Moles/congenital-nevus-44.jpg'),\n",
              " PosixPath('/content/drive/MyDrive/Skin_Disease/Melanoma Skin Cancer Nevi and Moles/blue-nevus-ota-3.jpg'),\n",
              " PosixPath('/content/drive/MyDrive/Skin_Disease/Melanoma Skin Cancer Nevi and Moles/becker-nevus-10.jpg'),\n",
              " PosixPath('/content/drive/MyDrive/Skin_Disease/Melanoma Skin Cancer Nevi and Moles/melanocytic-nevi-5.jpg'),\n",
              " PosixPath('/content/drive/MyDrive/Skin_Disease/Melanoma Skin Cancer Nevi and Moles/malignant-melanoma-129.jpg'),\n",
              " PosixPath('/content/drive/MyDrive/Skin_Disease/Melanoma Skin Cancer Nevi and Moles/melanocytic-nevi-58.jpg'),\n",
              " PosixPath('/content/drive/MyDrive/Skin_Disease/Melanoma Skin Cancer Nevi and Moles/malignant-melanoma-155.jpg'),\n",
              " PosixPath('/content/drive/MyDrive/Skin_Disease/Melanoma Skin Cancer Nevi and Moles/lentigo-maligna-2.jpg'),\n",
              " PosixPath('/content/drive/MyDrive/Skin_Disease/Melanoma Skin Cancer Nevi and Moles/lentigo-maligna-8.jpg'),\n",
              " PosixPath('/content/drive/MyDrive/Skin_Disease/Melanoma Skin Cancer Nevi and Moles/melanocytic-nevi-46.jpg'),\n",
              " PosixPath('/content/drive/MyDrive/Skin_Disease/Melanoma Skin Cancer Nevi and Moles/malignant-melanoma-178.jpg'),\n",
              " PosixPath('/content/drive/MyDrive/Skin_Disease/Melanoma Skin Cancer Nevi and Moles/melanocytic-nevi-27.jpg'),\n",
              " PosixPath('/content/drive/MyDrive/Skin_Disease/Melanoma Skin Cancer Nevi and Moles/malignant-melanoma-182.jpg'),\n",
              " PosixPath('/content/drive/MyDrive/Skin_Disease/Melanoma Skin Cancer Nevi and Moles/malignant-melanoma-111.jpg'),\n",
              " PosixPath('/content/drive/MyDrive/Skin_Disease/Melanoma Skin Cancer Nevi and Moles/melanocytic-nevi-44.jpg'),\n",
              " PosixPath('/content/drive/MyDrive/Skin_Disease/Melanoma Skin Cancer Nevi and Moles/halo-nevus-33.jpg'),\n",
              " PosixPath('/content/drive/MyDrive/Skin_Disease/Melanoma Skin Cancer Nevi and Moles/malignant-melanoma-114.jpg'),\n",
              " PosixPath('/content/drive/MyDrive/Skin_Disease/Melanoma Skin Cancer Nevi and Moles/malignant-melanoma-117.jpg'),\n",
              " PosixPath('/content/drive/MyDrive/Skin_Disease/Melanoma Skin Cancer Nevi and Moles/malignant-melanoma-123.jpg'),\n",
              " PosixPath('/content/drive/MyDrive/Skin_Disease/Melanoma Skin Cancer Nevi and Moles/malignant-melanoma-84.jpg'),\n",
              " PosixPath('/content/drive/MyDrive/Skin_Disease/Melanoma Skin Cancer Nevi and Moles/malignant-melanoma-150.jpg'),\n",
              " PosixPath('/content/drive/MyDrive/Skin_Disease/Melanoma Skin Cancer Nevi and Moles/malignant-melanoma-88.jpg'),\n",
              " PosixPath('/content/drive/MyDrive/Skin_Disease/Melanoma Skin Cancer Nevi and Moles/melanocytic-nevi-17.jpg'),\n",
              " PosixPath('/content/drive/MyDrive/Skin_Disease/Melanoma Skin Cancer Nevi and Moles/melanocytic-nevi-16.jpg'),\n",
              " PosixPath('/content/drive/MyDrive/Skin_Disease/Melanoma Skin Cancer Nevi and Moles/malignant-melanoma-145.jpg'),\n",
              " PosixPath('/content/drive/MyDrive/Skin_Disease/Melanoma Skin Cancer Nevi and Moles/melanocytic-nevi-7.jpg'),\n",
              " PosixPath('/content/drive/MyDrive/Skin_Disease/Melanoma Skin Cancer Nevi and Moles/malignant-melanoma-89.jpg'),\n",
              " PosixPath('/content/drive/MyDrive/Skin_Disease/Melanoma Skin Cancer Nevi and Moles/malignant-melanoma-134.jpg'),\n",
              " PosixPath('/content/drive/MyDrive/Skin_Disease/Melanoma Skin Cancer Nevi and Moles/lentigo-maligna-10.jpg'),\n",
              " PosixPath('/content/drive/MyDrive/Skin_Disease/Melanoma Skin Cancer Nevi and Moles/melanocytic-nevi-41.jpg'),\n",
              " PosixPath('/content/drive/MyDrive/Skin_Disease/Melanoma Skin Cancer Nevi and Moles/lentigo-maligna-9.jpg'),\n",
              " PosixPath('/content/drive/MyDrive/Skin_Disease/Melanoma Skin Cancer Nevi and Moles/malignant-melanoma-93.jpg'),\n",
              " PosixPath('/content/drive/MyDrive/Skin_Disease/Melanoma Skin Cancer Nevi and Moles/melanocytic-nevi-36.jpg'),\n",
              " PosixPath('/content/drive/MyDrive/Skin_Disease/Melanoma Skin Cancer Nevi and Moles/malignant-melanoma-19.jpg'),\n",
              " PosixPath('/content/drive/MyDrive/Skin_Disease/Melanoma Skin Cancer Nevi and Moles/melanocytic-nevi-72.jpg'),\n",
              " PosixPath('/content/drive/MyDrive/Skin_Disease/Melanoma Skin Cancer Nevi and Moles/halo-nevus-4.jpg'),\n",
              " PosixPath('/content/drive/MyDrive/Skin_Disease/Melanoma Skin Cancer Nevi and Moles/melanocytic-nevi-69.jpg'),\n",
              " PosixPath('/content/drive/MyDrive/Skin_Disease/Melanoma Skin Cancer Nevi and Moles/malignant-melanoma-142.jpg'),\n",
              " PosixPath('/content/drive/MyDrive/Skin_Disease/Melanoma Skin Cancer Nevi and Moles/malignant-melanoma-1.jpg'),\n",
              " PosixPath('/content/drive/MyDrive/Skin_Disease/Melanoma Skin Cancer Nevi and Moles/malignant-melanoma-135.jpg'),\n",
              " PosixPath('/content/drive/MyDrive/Skin_Disease/Melanoma Skin Cancer Nevi and Moles/melanocytic-nevi-30.jpg'),\n",
              " PosixPath('/content/drive/MyDrive/Skin_Disease/Melanoma Skin Cancer Nevi and Moles/malignant-melanoma-109.jpg'),\n",
              " PosixPath('/content/drive/MyDrive/Skin_Disease/Melanoma Skin Cancer Nevi and Moles/malignant-melanoma-95.jpg'),\n",
              " PosixPath('/content/drive/MyDrive/Skin_Disease/Melanoma Skin Cancer Nevi and Moles/malignant-melanoma-175.jpg'),\n",
              " PosixPath('/content/drive/MyDrive/Skin_Disease/Melanoma Skin Cancer Nevi and Moles/malignant-melanoma-14.jpg'),\n",
              " PosixPath('/content/drive/MyDrive/Skin_Disease/Melanoma Skin Cancer Nevi and Moles/lentigo-maligna-13.jpg'),\n",
              " PosixPath('/content/drive/MyDrive/Skin_Disease/Melanoma Skin Cancer Nevi and Moles/lentigo-maligna-19.jpg'),\n",
              " PosixPath('/content/drive/MyDrive/Skin_Disease/Melanoma Skin Cancer Nevi and Moles/melanocytic-nevi-18.jpg'),\n",
              " PosixPath('/content/drive/MyDrive/Skin_Disease/Melanoma Skin Cancer Nevi and Moles/melanocytic-nevi-100.jpg'),\n",
              " PosixPath('/content/drive/MyDrive/Skin_Disease/Melanoma Skin Cancer Nevi and Moles/lentigo-maligna-25.jpg'),\n",
              " PosixPath('/content/drive/MyDrive/Skin_Disease/Melanoma Skin Cancer Nevi and Moles/malignant-melanoma-105.jpg'),\n",
              " PosixPath('/content/drive/MyDrive/Skin_Disease/Melanoma Skin Cancer Nevi and Moles/melanocytic-nevi-12.jpg'),\n",
              " PosixPath('/content/drive/MyDrive/Skin_Disease/Melanoma Skin Cancer Nevi and Moles/lentigo-maligna-29.jpg'),\n",
              " PosixPath('/content/drive/MyDrive/Skin_Disease/Melanoma Skin Cancer Nevi and Moles/melanocytic-nevi-13.jpg'),\n",
              " PosixPath('/content/drive/MyDrive/Skin_Disease/Melanoma Skin Cancer Nevi and Moles/lentigo-maligna-28.jpg'),\n",
              " PosixPath('/content/drive/MyDrive/Skin_Disease/Melanoma Skin Cancer Nevi and Moles/malignant-melanoma-157.jpg'),\n",
              " PosixPath('/content/drive/MyDrive/Skin_Disease/Melanoma Skin Cancer Nevi and Moles/malignant-melanoma-171.jpg'),\n",
              " PosixPath('/content/drive/MyDrive/Skin_Disease/Melanoma Skin Cancer Nevi and Moles/melanocytic-nevi-29.jpg'),\n",
              " PosixPath('/content/drive/MyDrive/Skin_Disease/Melanoma Skin Cancer Nevi and Moles/malignant-melanoma-160.jpg'),\n",
              " PosixPath('/content/drive/MyDrive/Skin_Disease/Melanoma Skin Cancer Nevi and Moles/malignant-melanoma-183.jpg'),\n",
              " PosixPath('/content/drive/MyDrive/Skin_Disease/Melanoma Skin Cancer Nevi and Moles/malignant-melanoma-112.jpg'),\n",
              " PosixPath('/content/drive/MyDrive/Skin_Disease/Melanoma Skin Cancer Nevi and Moles/malignant-melanoma-187.jpg'),\n",
              " PosixPath('/content/drive/MyDrive/Skin_Disease/Melanoma Skin Cancer Nevi and Moles/malignant-melanoma-153.jpg'),\n",
              " PosixPath('/content/drive/MyDrive/Skin_Disease/Melanoma Skin Cancer Nevi and Moles/lentigo-maligna-20.jpg'),\n",
              " PosixPath('/content/drive/MyDrive/Skin_Disease/Melanoma Skin Cancer Nevi and Moles/melanocytic-nevi-61.jpg'),\n",
              " PosixPath('/content/drive/MyDrive/Skin_Disease/Melanoma Skin Cancer Nevi and Moles/halo-nevus-25.jpg'),\n",
              " PosixPath('/content/drive/MyDrive/Skin_Disease/Melanoma Skin Cancer Nevi and Moles/malignant-melanoma-2.jpg'),\n",
              " PosixPath('/content/drive/MyDrive/Skin_Disease/Melanoma Skin Cancer Nevi and Moles/malignant-melanoma-104.jpg'),\n",
              " PosixPath('/content/drive/MyDrive/Skin_Disease/Melanoma Skin Cancer Nevi and Moles/malignant-melanoma-94.jpg'),\n",
              " PosixPath('/content/drive/MyDrive/Skin_Disease/Melanoma Skin Cancer Nevi and Moles/lentigo-maligna-18.jpg'),\n",
              " PosixPath('/content/drive/MyDrive/Skin_Disease/Melanoma Skin Cancer Nevi and Moles/malignant-melanoma-138.jpg'),\n",
              " PosixPath('/content/drive/MyDrive/Skin_Disease/Melanoma Skin Cancer Nevi and Moles/melanocytic-nevi-4.jpg'),\n",
              " PosixPath('/content/drive/MyDrive/Skin_Disease/Melanoma Skin Cancer Nevi and Moles/melanocytic-nevi-68.jpg'),\n",
              " PosixPath('/content/drive/MyDrive/Skin_Disease/Melanoma Skin Cancer Nevi and Moles/melanocytic-nevi-35.jpg'),\n",
              " PosixPath('/content/drive/MyDrive/Skin_Disease/Melanoma Skin Cancer Nevi and Moles/halo-nevus-5.jpg'),\n",
              " PosixPath('/content/drive/MyDrive/Skin_Disease/Melanoma Skin Cancer Nevi and Moles/melanocytic-nevi-32.jpg'),\n",
              " PosixPath('/content/drive/MyDrive/Skin_Disease/Melanoma Skin Cancer Nevi and Moles/melanocytic-nevi-76.jpg'),\n",
              " PosixPath('/content/drive/MyDrive/Skin_Disease/Melanoma Skin Cancer Nevi and Moles/malignant-melanoma-125.jpg'),\n",
              " PosixPath('/content/drive/MyDrive/Skin_Disease/Melanoma Skin Cancer Nevi and Moles/malignant-melanoma-17.jpg'),\n",
              " PosixPath('/content/drive/MyDrive/Skin_Disease/Melanoma Skin Cancer Nevi and Moles/malignant-melanoma-120.jpg'),\n",
              " PosixPath('/content/drive/MyDrive/Skin_Disease/Melanoma Skin Cancer Nevi and Moles/melanocytic-nevi-62.jpg'),\n",
              " PosixPath('/content/drive/MyDrive/Skin_Disease/Melanoma Skin Cancer Nevi and Moles/lentigo-maligna-21.jpg'),\n",
              " PosixPath('/content/drive/MyDrive/Skin_Disease/Melanoma Skin Cancer Nevi and Moles/melanocytic-nevi-59.jpg'),\n",
              " PosixPath('/content/drive/MyDrive/Skin_Disease/Melanoma Skin Cancer Nevi and Moles/melanocytic-nevi-43.jpg'),\n",
              " PosixPath('/content/drive/MyDrive/Skin_Disease/Melanoma Skin Cancer Nevi and Moles/malignant-melanoma-179.jpg'),\n",
              " PosixPath('/content/drive/MyDrive/Skin_Disease/Melanoma Skin Cancer Nevi and Moles/melanocytic-nevi-39.jpg'),\n",
              " PosixPath('/content/drive/MyDrive/Skin_Disease/Melanoma Skin Cancer Nevi and Moles/malignant-melanoma-99.jpg'),\n",
              " PosixPath('/content/drive/MyDrive/Skin_Disease/Melanoma Skin Cancer Nevi and Moles/lentigo-maligna-24.jpg'),\n",
              " PosixPath('/content/drive/MyDrive/Skin_Disease/Melanoma Skin Cancer Nevi and Moles/malignant-melanoma-192.jpg'),\n",
              " PosixPath('/content/drive/MyDrive/Skin_Disease/Melanoma Skin Cancer Nevi and Moles/melanocytic-nevi-71.jpg'),\n",
              " PosixPath('/content/drive/MyDrive/Skin_Disease/Melanoma Skin Cancer Nevi and Moles/halo-nevus-8.jpg'),\n",
              " PosixPath('/content/drive/MyDrive/Skin_Disease/Melanoma Skin Cancer Nevi and Moles/malignant-melanoma-147.jpg'),\n",
              " PosixPath('/content/drive/MyDrive/Skin_Disease/Melanoma Skin Cancer Nevi and Moles/malignant-melanoma-185.jpg'),\n",
              " PosixPath('/content/drive/MyDrive/Skin_Disease/Melanoma Skin Cancer Nevi and Moles/malignant-melanoma-149.jpg'),\n",
              " PosixPath('/content/drive/MyDrive/Skin_Disease/Melanoma Skin Cancer Nevi and Moles/lentigo-maligna-14.jpg'),\n",
              " PosixPath('/content/drive/MyDrive/Skin_Disease/Melanoma Skin Cancer Nevi and Moles/malignant-melanoma-130.jpg'),\n",
              " PosixPath('/content/drive/MyDrive/Skin_Disease/Melanoma Skin Cancer Nevi and Moles/malignant-melanoma-18.jpg'),\n",
              " PosixPath('/content/drive/MyDrive/Skin_Disease/Melanoma Skin Cancer Nevi and Moles/lentigo-maligna-23.jpg'),\n",
              " PosixPath('/content/drive/MyDrive/Skin_Disease/Melanoma Skin Cancer Nevi and Moles/malignant-melanoma-143.jpg'),\n",
              " PosixPath('/content/drive/MyDrive/Skin_Disease/Melanoma Skin Cancer Nevi and Moles/melanocytic-nevi-34.jpg'),\n",
              " PosixPath('/content/drive/MyDrive/Skin_Disease/Melanoma Skin Cancer Nevi and Moles/lentigo-maligna-27.jpg'),\n",
              " PosixPath('/content/drive/MyDrive/Skin_Disease/Melanoma Skin Cancer Nevi and Moles/malignant-melanoma-163.jpg'),\n",
              " PosixPath('/content/drive/MyDrive/Skin_Disease/Melanoma Skin Cancer Nevi and Moles/malignant-melanoma-107.jpg'),\n",
              " PosixPath('/content/drive/MyDrive/Skin_Disease/Melanoma Skin Cancer Nevi and Moles/melanocytic-nevi-21.jpg'),\n",
              " PosixPath('/content/drive/MyDrive/Skin_Disease/Melanoma Skin Cancer Nevi and Moles/melanocytic-nevi-47.jpg'),\n",
              " PosixPath('/content/drive/MyDrive/Skin_Disease/Melanoma Skin Cancer Nevi and Moles/malignant-melanoma-102.jpg'),\n",
              " PosixPath('/content/drive/MyDrive/Skin_Disease/Melanoma Skin Cancer Nevi and Moles/malignant-melanoma-21.jpg'),\n",
              " PosixPath('/content/drive/MyDrive/Skin_Disease/Melanoma Skin Cancer Nevi and Moles/malignant-melanoma-133.jpg'),\n",
              " PosixPath('/content/drive/MyDrive/Skin_Disease/Melanoma Skin Cancer Nevi and Moles/malignant-melanoma-148.jpg'),\n",
              " PosixPath('/content/drive/MyDrive/Skin_Disease/Melanoma Skin Cancer Nevi and Moles/melanocytic-nevi-37.jpg'),\n",
              " PosixPath('/content/drive/MyDrive/Skin_Disease/Melanoma Skin Cancer Nevi and Moles/malignant-melanoma-10.jpg'),\n",
              " PosixPath('/content/drive/MyDrive/Skin_Disease/Melanoma Skin Cancer Nevi and Moles/malignant-melanoma-159.jpg'),\n",
              " PosixPath('/content/drive/MyDrive/Skin_Disease/Melanoma Skin Cancer Nevi and Moles/melanocytic-nevi-38.jpg'),\n",
              " PosixPath('/content/drive/MyDrive/Skin_Disease/Melanoma Skin Cancer Nevi and Moles/malignant-melanoma-15.jpg'),\n",
              " PosixPath('/content/drive/MyDrive/Skin_Disease/Melanoma Skin Cancer Nevi and Moles/malignant-melanoma-115.jpg'),\n",
              " PosixPath('/content/drive/MyDrive/Skin_Disease/Melanoma Skin Cancer Nevi and Moles/malignant-melanoma-188.jpg'),\n",
              " PosixPath('/content/drive/MyDrive/Skin_Disease/Melanoma Skin Cancer Nevi and Moles/malignant-melanoma-96.jpg'),\n",
              " PosixPath('/content/drive/MyDrive/Skin_Disease/Melanoma Skin Cancer Nevi and Moles/halo-nevus-3.jpg'),\n",
              " PosixPath('/content/drive/MyDrive/Skin_Disease/Melanoma Skin Cancer Nevi and Moles/malignant-melanoma-156.jpg'),\n",
              " PosixPath('/content/drive/MyDrive/Skin_Disease/Melanoma Skin Cancer Nevi and Moles/melanocytic-nevi-51.jpg'),\n",
              " PosixPath('/content/drive/MyDrive/Skin_Disease/Melanoma Skin Cancer Nevi and Moles/melanocytic-nevi-26.jpg'),\n",
              " PosixPath('/content/drive/MyDrive/Skin_Disease/Melanoma Skin Cancer Nevi and Moles/melanocytic-nevi-15.jpg'),\n",
              " PosixPath('/content/drive/MyDrive/Skin_Disease/Melanoma Skin Cancer Nevi and Moles/malignant-melanoma-154.jpg'),\n",
              " PosixPath('/content/drive/MyDrive/Skin_Disease/Melanoma Skin Cancer Nevi and Moles/lentigo-maligna-4.jpg'),\n",
              " PosixPath('/content/drive/MyDrive/Skin_Disease/Melanoma Skin Cancer Nevi and Moles/melanocytic-nevi-2.jpg'),\n",
              " PosixPath('/content/drive/MyDrive/Skin_Disease/Melanoma Skin Cancer Nevi and Moles/melanocytic-nevi-25.jpg'),\n",
              " PosixPath('/content/drive/MyDrive/Skin_Disease/Melanoma Skin Cancer Nevi and Moles/malignant-melanoma-173.jpg'),\n",
              " PosixPath('/content/drive/MyDrive/Skin_Disease/Melanoma Skin Cancer Nevi and Moles/malignant-melanoma-151.jpg'),\n",
              " PosixPath('/content/drive/MyDrive/Skin_Disease/Melanoma Skin Cancer Nevi and Moles/malignant-melanoma-167.jpg'),\n",
              " PosixPath('/content/drive/MyDrive/Skin_Disease/Melanoma Skin Cancer Nevi and Moles/melanocytic-nevi-1.jpg'),\n",
              " PosixPath('/content/drive/MyDrive/Skin_Disease/Melanoma Skin Cancer Nevi and Moles/malignant-melanoma-116.jpg'),\n",
              " PosixPath('/content/drive/MyDrive/Skin_Disease/Melanoma Skin Cancer Nevi and Moles/melanocytic-nevi-74.jpg'),\n",
              " PosixPath('/content/drive/MyDrive/Skin_Disease/Melanoma Skin Cancer Nevi and Moles/malignant-melanoma-87.jpg'),\n",
              " PosixPath('/content/drive/MyDrive/Skin_Disease/Melanoma Skin Cancer Nevi and Moles/melanocytic-nevi-67.jpg'),\n",
              " PosixPath('/content/drive/MyDrive/Skin_Disease/Melanoma Skin Cancer Nevi and Moles/malignant-melanoma-119.jpg'),\n",
              " PosixPath('/content/drive/MyDrive/Skin_Disease/Melanoma Skin Cancer Nevi and Moles/lentigo-maligna-12.jpg'),\n",
              " PosixPath('/content/drive/MyDrive/Skin_Disease/Melanoma Skin Cancer Nevi and Moles/malignant-melanoma-86.jpg'),\n",
              " PosixPath('/content/drive/MyDrive/Skin_Disease/Melanoma Skin Cancer Nevi and Moles/halo-nevus-34.jpg'),\n",
              " PosixPath('/content/drive/MyDrive/Skin_Disease/Melanoma Skin Cancer Nevi and Moles/melanocytic-nevi-10.jpg'),\n",
              " PosixPath('/content/drive/MyDrive/Skin_Disease/Melanoma Skin Cancer Nevi and Moles/malignant-melanoma-22.jpg'),\n",
              " PosixPath('/content/drive/MyDrive/Skin_Disease/Melanoma Skin Cancer Nevi and Moles/malignant-melanoma-131.jpg'),\n",
              " PosixPath('/content/drive/MyDrive/Skin_Disease/Melanoma Skin Cancer Nevi and Moles/malignant-melanoma-9.jpg'),\n",
              " PosixPath('/content/drive/MyDrive/Skin_Disease/Melanoma Skin Cancer Nevi and Moles/malignant-melanoma-189.jpg'),\n",
              " PosixPath('/content/drive/MyDrive/Skin_Disease/Melanoma Skin Cancer Nevi and Moles/melanocytic-nevi-45.jpg'),\n",
              " PosixPath('/content/drive/MyDrive/Skin_Disease/Melanoma Skin Cancer Nevi and Moles/melanocytic-nevi-19.jpg'),\n",
              " PosixPath('/content/drive/MyDrive/Skin_Disease/Melanoma Skin Cancer Nevi and Moles/melanocytic-nevi-64.jpg'),\n",
              " PosixPath('/content/drive/MyDrive/Skin_Disease/Melanoma Skin Cancer Nevi and Moles/halo-nevus-28.jpg'),\n",
              " PosixPath('/content/drive/MyDrive/Skin_Disease/Melanoma Skin Cancer Nevi and Moles/malignant-melanoma-81.jpg'),\n",
              " PosixPath('/content/drive/MyDrive/Skin_Disease/Melanoma Skin Cancer Nevi and Moles/melanocytic-nevi-31.jpg'),\n",
              " PosixPath('/content/drive/MyDrive/Skin_Disease/Melanoma Skin Cancer Nevi and Moles/melanocytic-nevi-70.jpg'),\n",
              " PosixPath('/content/drive/MyDrive/Skin_Disease/Melanoma Skin Cancer Nevi and Moles/melanocytic-nevi-66.jpg'),\n",
              " PosixPath('/content/drive/MyDrive/Skin_Disease/Melanoma Skin Cancer Nevi and Moles/melanocytic-nevi-40.jpg'),\n",
              " PosixPath('/content/drive/MyDrive/Skin_Disease/Melanoma Skin Cancer Nevi and Moles/lentigo-maligna-3.jpg'),\n",
              " PosixPath('/content/drive/MyDrive/Skin_Disease/Melanoma Skin Cancer Nevi and Moles/malignant-melanoma-92.jpg'),\n",
              " PosixPath('/content/drive/MyDrive/Skin_Disease/Melanoma Skin Cancer Nevi and Moles/malignant-melanoma-11.jpg'),\n",
              " PosixPath('/content/drive/MyDrive/Skin_Disease/Melanoma Skin Cancer Nevi and Moles/melanocytic-nevi-63.jpg'),\n",
              " PosixPath('/content/drive/MyDrive/Skin_Disease/Melanoma Skin Cancer Nevi and Moles/malignant-melanoma-101.jpg'),\n",
              " PosixPath('/content/drive/MyDrive/Skin_Disease/Melanoma Skin Cancer Nevi and Moles/malignant-melanoma-166.jpg'),\n",
              " PosixPath('/content/drive/MyDrive/Skin_Disease/Melanoma Skin Cancer Nevi and Moles/melanocytic-nevi-60.jpg'),\n",
              " PosixPath('/content/drive/MyDrive/Skin_Disease/Melanoma Skin Cancer Nevi and Moles/halo-nevus-6.jpg'),\n",
              " PosixPath('/content/drive/MyDrive/Skin_Disease/Melanoma Skin Cancer Nevi and Moles/malignant-melanoma-174.jpg'),\n",
              " PosixPath('/content/drive/MyDrive/Skin_Disease/Melanoma Skin Cancer Nevi and Moles/halo-nevus-7.jpg'),\n",
              " PosixPath('/content/drive/MyDrive/Skin_Disease/Melanoma Skin Cancer Nevi and Moles/malignant-melanoma-132.jpg'),\n",
              " PosixPath('/content/drive/MyDrive/Skin_Disease/Melanoma Skin Cancer Nevi and Moles/melanocytic-nevi-42.jpg'),\n",
              " PosixPath('/content/drive/MyDrive/Skin_Disease/Melanoma Skin Cancer Nevi and Moles/melanocytic-nevi-53.jpg'),\n",
              " PosixPath('/content/drive/MyDrive/Skin_Disease/Melanoma Skin Cancer Nevi and Moles/malignant-melanoma-162.jpg'),\n",
              " PosixPath('/content/drive/MyDrive/Skin_Disease/Melanoma Skin Cancer Nevi and Moles/malignant-melanoma-80.jpg'),\n",
              " PosixPath('/content/drive/MyDrive/Skin_Disease/Melanoma Skin Cancer Nevi and Moles/malignant-melanoma-98.jpg'),\n",
              " PosixPath('/content/drive/MyDrive/Skin_Disease/Melanoma Skin Cancer Nevi and Moles/malignant-melanoma-83.jpg'),\n",
              " PosixPath('/content/drive/MyDrive/Skin_Disease/Melanoma Skin Cancer Nevi and Moles/halo-nevus-31.jpg'),\n",
              " PosixPath('/content/drive/MyDrive/Skin_Disease/Melanoma Skin Cancer Nevi and Moles/malignant-melanoma-85.jpg'),\n",
              " PosixPath('/content/drive/MyDrive/Skin_Disease/Melanoma Skin Cancer Nevi and Moles/malignant-melanoma-158.jpg'),\n",
              " PosixPath('/content/drive/MyDrive/Skin_Disease/Melanoma Skin Cancer Nevi and Moles/malignant-melanoma-8.jpg'),\n",
              " PosixPath('/content/drive/MyDrive/Skin_Disease/Melanoma Skin Cancer Nevi and Moles/malignant-melanoma-97.jpg'),\n",
              " PosixPath('/content/drive/MyDrive/Skin_Disease/Melanoma Skin Cancer Nevi and Moles/malignant-melanoma-90.jpg'),\n",
              " PosixPath('/content/drive/MyDrive/Skin_Disease/Melanoma Skin Cancer Nevi and Moles/malignant-melanoma-126.jpg'),\n",
              " PosixPath('/content/drive/MyDrive/Skin_Disease/Melanoma Skin Cancer Nevi and Moles/malignant-melanoma-103.jpg'),\n",
              " PosixPath('/content/drive/MyDrive/Skin_Disease/Melanoma Skin Cancer Nevi and Moles/malignant-melanoma-113.jpg'),\n",
              " PosixPath('/content/drive/MyDrive/Skin_Disease/Melanoma Skin Cancer Nevi and Moles/melanocytic-nevi-20.jpg'),\n",
              " PosixPath('/content/drive/MyDrive/Skin_Disease/Melanoma Skin Cancer Nevi and Moles/halo-nevus-9.jpg'),\n",
              " PosixPath('/content/drive/MyDrive/Skin_Disease/Melanoma Skin Cancer Nevi and Moles/melanocytic-nevi-28.jpg'),\n",
              " PosixPath('/content/drive/MyDrive/Skin_Disease/Melanoma Skin Cancer Nevi and Moles/lentigo-maligna-15.jpg'),\n",
              " PosixPath('/content/drive/MyDrive/Skin_Disease/Melanoma Skin Cancer Nevi and Moles/malignant-melanoma-186.jpg'),\n",
              " PosixPath('/content/drive/MyDrive/Skin_Disease/Melanoma Skin Cancer Nevi and Moles/lentigo-maligna-22.jpg'),\n",
              " PosixPath('/content/drive/MyDrive/Skin_Disease/Melanoma Skin Cancer Nevi and Moles/melanocytic-nevi-14.jpg'),\n",
              " PosixPath('/content/drive/MyDrive/Skin_Disease/Melanoma Skin Cancer Nevi and Moles/malignant-melanoma-146.jpg'),\n",
              " PosixPath('/content/drive/MyDrive/Skin_Disease/Melanoma Skin Cancer Nevi and Moles/lentigo-maligna-5.jpg'),\n",
              " PosixPath('/content/drive/MyDrive/Skin_Disease/Melanoma Skin Cancer Nevi and Moles/melanocytic-nevi-23.jpg'),\n",
              " PosixPath('/content/drive/MyDrive/Skin_Disease/Melanoma Skin Cancer Nevi and Moles/melanocytic-nevi-50.jpg'),\n",
              " PosixPath('/content/drive/MyDrive/Skin_Disease/Melanoma Skin Cancer Nevi and Moles/malignant-melanoma-169.jpg'),\n",
              " PosixPath('/content/drive/MyDrive/Skin_Disease/Melanoma Skin Cancer Nevi and Moles/melanocytic-nevi-48.jpg'),\n",
              " PosixPath('/content/drive/MyDrive/Skin_Disease/Melanoma Skin Cancer Nevi and Moles/malignant-melanoma-172.jpg'),\n",
              " PosixPath('/content/drive/MyDrive/Skin_Disease/Melanoma Skin Cancer Nevi and Moles/melanocytic-nevi-52.jpg'),\n",
              " PosixPath('/content/drive/MyDrive/Skin_Disease/Melanoma Skin Cancer Nevi and Moles/melanocytic-nevi-56.jpg'),\n",
              " PosixPath('/content/drive/MyDrive/Skin_Disease/Melanoma Skin Cancer Nevi and Moles/melanocytic-nevi-22.jpg'),\n",
              " PosixPath('/content/drive/MyDrive/Skin_Disease/Melanoma Skin Cancer Nevi and Moles/malignant-melanoma-137.jpg'),\n",
              " PosixPath('/content/drive/MyDrive/Skin_Disease/Melanoma Skin Cancer Nevi and Moles/malignant-melanoma-152.jpg'),\n",
              " PosixPath('/content/drive/MyDrive/Skin_Disease/Melanoma Skin Cancer Nevi and Moles/malignant-melanoma-139.jpg'),\n",
              " PosixPath('/content/drive/MyDrive/Skin_Disease/Melanoma Skin Cancer Nevi and Moles/malignant-melanoma-184.jpg'),\n",
              " PosixPath('/content/drive/MyDrive/Skin_Disease/Melanoma Skin Cancer Nevi and Moles/malignant-melanoma-13.jpg'),\n",
              " PosixPath('/content/drive/MyDrive/Skin_Disease/Melanoma Skin Cancer Nevi and Moles/halo-nevus-30.jpg'),\n",
              " PosixPath('/content/drive/MyDrive/Skin_Disease/Melanoma Skin Cancer Nevi and Moles/malignant-melanoma-164.jpg'),\n",
              " PosixPath('/content/drive/MyDrive/Skin_Disease/Melanoma Skin Cancer Nevi and Moles/lentigo-maligna-17.jpg'),\n",
              " PosixPath('/content/drive/MyDrive/Skin_Disease/Melanoma Skin Cancer Nevi and Moles/melanocytic-nevi-54.jpg'),\n",
              " PosixPath('/content/drive/MyDrive/Skin_Disease/Melanoma Skin Cancer Nevi and Moles/melanocytic-nevi-3.jpg'),\n",
              " PosixPath('/content/drive/MyDrive/Skin_Disease/Melanoma Skin Cancer Nevi and Moles/nevus-spilus-12.jpg'),\n",
              " PosixPath('/content/drive/MyDrive/Skin_Disease/Melanoma Skin Cancer Nevi and Moles/nevus-spilus-8.jpg'),\n",
              " PosixPath('/content/drive/MyDrive/Skin_Disease/Melanoma Skin Cancer Nevi and Moles/melanotic-macule-1.jpg'),\n",
              " PosixPath('/content/drive/MyDrive/Skin_Disease/Melanoma Skin Cancer Nevi and Moles/nevus-repigmented-1.jpg'),\n",
              " PosixPath('/content/drive/MyDrive/Skin_Disease/Melanoma Skin Cancer Nevi and Moles/melanocytic-nevi-95.jpg'),\n",
              " PosixPath('/content/drive/MyDrive/Skin_Disease/Melanoma Skin Cancer Nevi and Moles/nevus-spilus-19.jpg'),\n",
              " PosixPath('/content/drive/MyDrive/Skin_Disease/Melanoma Skin Cancer Nevi and Moles/melanocytic-nevi-86.jpg'),\n",
              " PosixPath('/content/drive/MyDrive/Skin_Disease/Melanoma Skin Cancer Nevi and Moles/nevus-spilus-34.jpg'),\n",
              " PosixPath('/content/drive/MyDrive/Skin_Disease/Melanoma Skin Cancer Nevi and Moles/nevus-spilus-27.jpg'),\n",
              " PosixPath('/content/drive/MyDrive/Skin_Disease/Melanoma Skin Cancer Nevi and Moles/melanotic-macule-12.jpg'),\n",
              " PosixPath('/content/drive/MyDrive/Skin_Disease/Melanoma Skin Cancer Nevi and Moles/mongolian-spot-4.jpg'),\n",
              " PosixPath('/content/drive/MyDrive/Skin_Disease/Melanoma Skin Cancer Nevi and Moles/spitz-nevus-8.jpg'),\n",
              " PosixPath('/content/drive/MyDrive/Skin_Disease/Melanoma Skin Cancer Nevi and Moles/melanocytic-nevi-84.jpg'),\n",
              " PosixPath('/content/drive/MyDrive/Skin_Disease/Melanoma Skin Cancer Nevi and Moles/spitz-nevus-1.jpg'),\n",
              " PosixPath('/content/drive/MyDrive/Skin_Disease/Melanoma Skin Cancer Nevi and Moles/nevus-spilus-4.jpg'),\n",
              " PosixPath('/content/drive/MyDrive/Skin_Disease/Melanoma Skin Cancer Nevi and Moles/melanocytic-nevi-88.jpg'),\n",
              " PosixPath('/content/drive/MyDrive/Skin_Disease/Melanoma Skin Cancer Nevi and Moles/nevus-spilus-25.jpg'),\n",
              " PosixPath('/content/drive/MyDrive/Skin_Disease/Melanoma Skin Cancer Nevi and Moles/nevus-repigmented-4.jpg'),\n",
              " PosixPath('/content/drive/MyDrive/Skin_Disease/Melanoma Skin Cancer Nevi and Moles/spitz-nevus-7.jpg'),\n",
              " PosixPath('/content/drive/MyDrive/Skin_Disease/Melanoma Skin Cancer Nevi and Moles/nevus-spilus-24.jpg'),\n",
              " PosixPath('/content/drive/MyDrive/Skin_Disease/Melanoma Skin Cancer Nevi and Moles/melanocytic-nevi-93.jpg'),\n",
              " PosixPath('/content/drive/MyDrive/Skin_Disease/Melanoma Skin Cancer Nevi and Moles/nevus-spilus-17.jpg'),\n",
              " PosixPath('/content/drive/MyDrive/Skin_Disease/Melanoma Skin Cancer Nevi and Moles/nevus-spilus-35.jpg'),\n",
              " PosixPath('/content/drive/MyDrive/Skin_Disease/Melanoma Skin Cancer Nevi and Moles/nevus-spilus-23.jpg'),\n",
              " PosixPath('/content/drive/MyDrive/Skin_Disease/Melanoma Skin Cancer Nevi and Moles/nevus-spilus-5.jpg'),\n",
              " PosixPath('/content/drive/MyDrive/Skin_Disease/Melanoma Skin Cancer Nevi and Moles/melanocytic-nevi-87.jpg'),\n",
              " PosixPath('/content/drive/MyDrive/Skin_Disease/Melanoma Skin Cancer Nevi and Moles/nevus-spilus-20.jpg'),\n",
              " PosixPath('/content/drive/MyDrive/Skin_Disease/Melanoma Skin Cancer Nevi and Moles/nevus-spilus-14.jpg'),\n",
              " PosixPath('/content/drive/MyDrive/Skin_Disease/Melanoma Skin Cancer Nevi and Moles/spitz-nevus-6.jpg'),\n",
              " PosixPath('/content/drive/MyDrive/Skin_Disease/Melanoma Skin Cancer Nevi and Moles/nevus-spilus-26.jpg'),\n",
              " PosixPath('/content/drive/MyDrive/Skin_Disease/Melanoma Skin Cancer Nevi and Moles/melanocytic-nevi-81.jpg'),\n",
              " PosixPath('/content/drive/MyDrive/Skin_Disease/Melanoma Skin Cancer Nevi and Moles/nevus-spilus-22.jpg'),\n",
              " PosixPath('/content/drive/MyDrive/Skin_Disease/Melanoma Skin Cancer Nevi and Moles/melanocytic-nevi-90.jpg'),\n",
              " PosixPath('/content/drive/MyDrive/Skin_Disease/Melanoma Skin Cancer Nevi and Moles/nevus-spilus-9.jpg'),\n",
              " PosixPath('/content/drive/MyDrive/Skin_Disease/Melanoma Skin Cancer Nevi and Moles/nevus-spilus-13.jpg'),\n",
              " PosixPath('/content/drive/MyDrive/Skin_Disease/Melanoma Skin Cancer Nevi and Moles/nevus-spilus-7.jpg'),\n",
              " PosixPath('/content/drive/MyDrive/Skin_Disease/Melanoma Skin Cancer Nevi and Moles/spitz-nevus-4.jpg'),\n",
              " PosixPath('/content/drive/MyDrive/Skin_Disease/Melanoma Skin Cancer Nevi and Moles/nevus-spilus-30.jpg'),\n",
              " PosixPath('/content/drive/MyDrive/Skin_Disease/Melanoma Skin Cancer Nevi and Moles/nevus-spilus-33.jpg'),\n",
              " PosixPath('/content/drive/MyDrive/Skin_Disease/Melanoma Skin Cancer Nevi and Moles/melanocytic-nevi-85.jpg'),\n",
              " PosixPath('/content/drive/MyDrive/Skin_Disease/Melanoma Skin Cancer Nevi and Moles/nevus-spilus-2.jpg'),\n",
              " PosixPath('/content/drive/MyDrive/Skin_Disease/Melanoma Skin Cancer Nevi and Moles/spitz-nevus-5.jpg'),\n",
              " PosixPath('/content/drive/MyDrive/Skin_Disease/Melanoma Skin Cancer Nevi and Moles/nevus-spilus-15.jpg'),\n",
              " PosixPath('/content/drive/MyDrive/Skin_Disease/Melanoma Skin Cancer Nevi and Moles/nevus-spilus-29.jpg'),\n",
              " PosixPath('/content/drive/MyDrive/Skin_Disease/Melanoma Skin Cancer Nevi and Moles/melanocytic-nevi-96.jpg'),\n",
              " PosixPath('/content/drive/MyDrive/Skin_Disease/Melanoma Skin Cancer Nevi and Moles/melanocytic-nevi-80.jpg'),\n",
              " PosixPath('/content/drive/MyDrive/Skin_Disease/Melanoma Skin Cancer Nevi and Moles/nevus-spilus-31.jpg'),\n",
              " PosixPath('/content/drive/MyDrive/Skin_Disease/Melanoma Skin Cancer Nevi and Moles/melanotic-macule-5.jpg'),\n",
              " PosixPath('/content/drive/MyDrive/Skin_Disease/Melanoma Skin Cancer Nevi and Moles/spitz-nevus-2.jpg'),\n",
              " PosixPath('/content/drive/MyDrive/Skin_Disease/Melanoma Skin Cancer Nevi and Moles/melanocytic-nevi-8.jpg'),\n",
              " PosixPath('/content/drive/MyDrive/Skin_Disease/Melanoma Skin Cancer Nevi and Moles/melanocytic-nevi-77.jpg'),\n",
              " PosixPath('/content/drive/MyDrive/Skin_Disease/Melanoma Skin Cancer Nevi and Moles/melanocytic-nevi-99.jpg'),\n",
              " PosixPath('/content/drive/MyDrive/Skin_Disease/Melanoma Skin Cancer Nevi and Moles/melanotic-macule-8.jpg'),\n",
              " PosixPath('/content/drive/MyDrive/Skin_Disease/Melanoma Skin Cancer Nevi and Moles/melanotic-macule-11.jpg'),\n",
              " PosixPath('/content/drive/MyDrive/Skin_Disease/Melanoma Skin Cancer Nevi and Moles/melanocytic-nevi-89.jpg'),\n",
              " PosixPath('/content/drive/MyDrive/Skin_Disease/Melanoma Skin Cancer Nevi and Moles/melanotic-macule-6.jpg'),\n",
              " PosixPath('/content/drive/MyDrive/Skin_Disease/Melanoma Skin Cancer Nevi and Moles/mongolian-spot-1.jpg'),\n",
              " PosixPath('/content/drive/MyDrive/Skin_Disease/Melanoma Skin Cancer Nevi and Moles/melanotic-macule-2.jpg'),\n",
              " PosixPath('/content/drive/MyDrive/Skin_Disease/Melanoma Skin Cancer Nevi and Moles/nevus-spilus-6.jpg'),\n",
              " PosixPath('/content/drive/MyDrive/Skin_Disease/Melanoma Skin Cancer Nevi and Moles/melanotic-macule-9.jpg'),\n",
              " PosixPath('/content/drive/MyDrive/Skin_Disease/Melanoma Skin Cancer Nevi and Moles/nevus-spilus-10.jpg'),\n",
              " PosixPath('/content/drive/MyDrive/Skin_Disease/Melanoma Skin Cancer Nevi and Moles/melanocytic-nevi-97.jpg'),\n",
              " PosixPath('/content/drive/MyDrive/Skin_Disease/Melanoma Skin Cancer Nevi and Moles/nevus-spilus-16.jpg'),\n",
              " PosixPath('/content/drive/MyDrive/Skin_Disease/Melanoma Skin Cancer Nevi and Moles/melanocytic-nevi-92.jpg'),\n",
              " PosixPath('/content/drive/MyDrive/Skin_Disease/Melanoma Skin Cancer Nevi and Moles/spitz-nevus-3.jpg'),\n",
              " PosixPath('/content/drive/MyDrive/Skin_Disease/Melanoma Skin Cancer Nevi and Moles/melanocytic-nevi-83.jpg'),\n",
              " PosixPath('/content/drive/MyDrive/Skin_Disease/Melanoma Skin Cancer Nevi and Moles/melanocytic-nevi-82.jpg'),\n",
              " PosixPath('/content/drive/MyDrive/Skin_Disease/Melanoma Skin Cancer Nevi and Moles/mongolian-spot-3.jpg'),\n",
              " PosixPath('/content/drive/MyDrive/Skin_Disease/Melanoma Skin Cancer Nevi and Moles/nevus-spilus-1.jpg'),\n",
              " PosixPath('/content/drive/MyDrive/Skin_Disease/Melanoma Skin Cancer Nevi and Moles/melanocytic-nevi-98.jpg'),\n",
              " PosixPath('/content/drive/MyDrive/Skin_Disease/Melanoma Skin Cancer Nevi and Moles/melanotic-macule-10.jpg'),\n",
              " PosixPath('/content/drive/MyDrive/Skin_Disease/Melanoma Skin Cancer Nevi and Moles/nevus-spilus-18.jpg'),\n",
              " PosixPath('/content/drive/MyDrive/Skin_Disease/Melanoma Skin Cancer Nevi and Moles/spitz-nevus-9.jpg')]"
            ]
          },
          "metadata": {},
          "execution_count": 65
        }
      ]
    },
    {
      "cell_type": "code",
      "source": [
        "diseases_labels_dict = {\n",
        "    'Melanoma' : 0,\n",
        "    'Eczema' : 1,\n",
        "    'Dermatitis': 2,\n",
        "    'Psoriasis': 3,\n",
        "}"
      ],
      "metadata": {
        "id": "wNoMdS8NrgEb"
      },
      "execution_count": 66,
      "outputs": []
    },
    {
      "cell_type": "code",
      "source": [
        "img = cv2.imread(str(diseases_images_dict['Melanoma'][1]))\n",
        "img.shape"
      ],
      "metadata": {
        "colab": {
          "base_uri": "https://localhost:8080/"
        },
        "id": "b1Dw9hF-ruSH",
        "outputId": "17bf323f-dee7-4b0e-a783-6d328030c903"
      },
      "execution_count": 67,
      "outputs": [
        {
          "output_type": "execute_result",
          "data": {
            "text/plain": [
              "(464, 720, 3)"
            ]
          },
          "metadata": {},
          "execution_count": 67
        }
      ]
    },
    {
      "cell_type": "code",
      "source": [
        "cv2.resize(img,IMAGE_SHAPE).shape"
      ],
      "metadata": {
        "colab": {
          "base_uri": "https://localhost:8080/"
        },
        "id": "xDUzYkepsBgr",
        "outputId": "00a0ab84-d507-482c-c17f-c7a0599f9b7b"
      },
      "execution_count": 68,
      "outputs": [
        {
          "output_type": "execute_result",
          "data": {
            "text/plain": [
              "(224, 224, 3)"
            ]
          },
          "metadata": {},
          "execution_count": 68
        }
      ]
    },
    {
      "cell_type": "code",
      "source": [
        "X, y = [], []\n",
        "\n",
        "for disease_name, images in diseases_images_dict.items():\n",
        "    for image in images:\n",
        "        img = cv2.imread(str(image))\n",
        "        resized_img = cv2.resize(img,(224,224))\n",
        "        X.append(resized_img)\n",
        "        y.append(diseases_labels_dict[disease_name])"
      ],
      "metadata": {
        "id": "m0pzIjPcsLzM"
      },
      "execution_count": 71,
      "outputs": []
    },
    {
      "cell_type": "code",
      "source": [
        "X = np.array(X)\n",
        "y = np.array(y)"
      ],
      "metadata": {
        "id": "EdSbDmpPsv9G"
      },
      "execution_count": 74,
      "outputs": []
    },
    {
      "cell_type": "code",
      "source": [
        "from sklearn.model_selection import train_test_split\n",
        "X_train, X_test, y_train, y_test = train_test_split(X, y, random_state=0)"
      ],
      "metadata": {
        "id": "Cfn3jTGsyfnL"
      },
      "execution_count": 75,
      "outputs": []
    },
    {
      "cell_type": "code",
      "source": [
        "X_train_scaled = X_train/255\n",
        "X_test_scaled = X_test/255"
      ],
      "metadata": {
        "id": "vShV38oEzUQu"
      },
      "execution_count": 76,
      "outputs": []
    },
    {
      "cell_type": "code",
      "source": [
        "plt.axis('off')\n",
        "plt.imshow(X[0])"
      ],
      "metadata": {
        "id": "6SsakMrT0h_J"
      },
      "execution_count": null,
      "outputs": []
    },
    {
      "cell_type": "code",
      "source": [
        "plt.axis('off')\n",
        "plt.imshow(X[1])"
      ],
      "metadata": {
        "id": "gzGXKByq0mdN"
      },
      "execution_count": null,
      "outputs": []
    },
    {
      "cell_type": "code",
      "source": [
        "predicted = classifier.predict(np.array([X[0],X[1],X[2]]))\n",
        "predicted = np.argmax(predicted, axis=1)\n",
        "predicted"
      ],
      "metadata": {
        "colab": {
          "base_uri": "https://localhost:8080/"
        },
        "id": "oyY3c0iBzcqM",
        "outputId": "5f5018dc-65aa-4750-fb0d-7e633e75a306"
      },
      "execution_count": 81,
      "outputs": [
        {
          "output_type": "stream",
          "name": "stdout",
          "text": [
            "1/1 [==============================] - 0s 75ms/step\n"
          ]
        },
        {
          "output_type": "execute_result",
          "data": {
            "text/plain": [
              "array([795, 795, 795])"
            ]
          },
          "metadata": {},
          "execution_count": 81
        }
      ]
    },
    {
      "cell_type": "code",
      "source": [
        "feature_extractor_model = \"https://tfhub.dev/google/tf2-preview/mobilenet_v2/feature_vector/4\"\n",
        "pretrained_model_without_top_layer = hub.KerasLayer(\n",
        "    feature_extractor_model, input_shape=(224,224,3), trainable=False)\n"
      ],
      "metadata": {
        "id": "XDkMtndBz-CL"
      },
      "execution_count": 86,
      "outputs": []
    },
    {
      "cell_type": "code",
      "source": [
        "num_of_disease = 4\n",
        "\n",
        "model = tf.keras.Sequential([\n",
        "    pretrained_model_without_top_layer,\n",
        "    tf.keras.layers.Dense(num_of_disease)\n",
        "])\n",
        "\n",
        "model.summary()"
      ],
      "metadata": {
        "colab": {
          "base_uri": "https://localhost:8080/"
        },
        "id": "WzB3Eoat2PaR",
        "outputId": "35b9fac9-9c34-438a-a08d-caf6a347f7d2"
      },
      "execution_count": 87,
      "outputs": [
        {
          "output_type": "stream",
          "name": "stdout",
          "text": [
            "Model: \"sequential_3\"\n",
            "_________________________________________________________________\n",
            " Layer (type)                Output Shape              Param #   \n",
            "=================================================================\n",
            " keras_layer_3 (KerasLayer)  (None, 1280)              2257984   \n",
            "                                                                 \n",
            " dense (Dense)               (None, 4)                 5124      \n",
            "                                                                 \n",
            "=================================================================\n",
            "Total params: 2,263,108\n",
            "Trainable params: 5,124\n",
            "Non-trainable params: 2,257,984\n",
            "_________________________________________________________________\n"
          ]
        }
      ]
    },
    {
      "cell_type": "code",
      "source": [
        "model.compile(\n",
        "    optimizer = \"adam\",\n",
        "    loss = tf.keras.losses.SparseCategoricalCrossentropy(from_logits=True),\n",
        "    metrics=['acc'])\n",
        "\n",
        "model.fit(X_train_scaled, y_train, epochs=5)"
      ],
      "metadata": {
        "colab": {
          "base_uri": "https://localhost:8080/"
        },
        "id": "JFbNUI2t275h",
        "outputId": "c2c4c9bf-54b7-45f0-afe8-83d8a41d067d"
      },
      "execution_count": 88,
      "outputs": [
        {
          "output_type": "stream",
          "name": "stdout",
          "text": [
            "Epoch 1/5\n",
            "85/85 [==============================] - 55s 616ms/step - loss: 1.1840 - acc: 0.4870\n",
            "Epoch 2/5\n",
            "85/85 [==============================] - 51s 597ms/step - loss: 0.9119 - acc: 0.6114\n",
            "Epoch 3/5\n",
            "85/85 [==============================] - 49s 578ms/step - loss: 0.8176 - acc: 0.6578\n",
            "Epoch 4/5\n",
            "85/85 [==============================] - 49s 580ms/step - loss: 0.7575 - acc: 0.6860\n",
            "Epoch 5/5\n",
            "85/85 [==============================] - 49s 577ms/step - loss: 0.7109 - acc: 0.7101\n"
          ]
        },
        {
          "output_type": "execute_result",
          "data": {
            "text/plain": [
              "<keras.callbacks.History at 0x7fcf7d317220>"
            ]
          },
          "metadata": {},
          "execution_count": 88
        }
      ]
    },
    {
      "cell_type": "code",
      "source": [
        "model.evaluate(X_test_scaled, y_test)"
      ],
      "metadata": {
        "colab": {
          "base_uri": "https://localhost:8080/"
        },
        "id": "kKi--u-J4ZHC",
        "outputId": "21ba6a67-f0b3-4be9-c6f4-1cb4bc21e2eb"
      },
      "execution_count": 89,
      "outputs": [
        {
          "output_type": "stream",
          "name": "stdout",
          "text": [
            "29/29 [==============================] - 17s 569ms/step - loss: 0.8546 - acc: 0.6336\n"
          ]
        },
        {
          "output_type": "execute_result",
          "data": {
            "text/plain": [
              "[0.854591965675354, 0.6336302757263184]"
            ]
          },
          "metadata": {},
          "execution_count": 89
        }
      ]
    }
  ]
}