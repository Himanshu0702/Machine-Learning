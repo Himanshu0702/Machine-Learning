{
  "nbformat": 4,
  "nbformat_minor": 0,
  "metadata": {
    "colab": {
      "provenance": [],
      "authorship_tag": "ABX9TyOJaNrcDyfkvKFX6buKsBHF",
      "include_colab_link": true
    },
    "kernelspec": {
      "name": "python3",
      "display_name": "Python 3"
    },
    "language_info": {
      "name": "python"
    }
  },
  "cells": [
    {
      "cell_type": "markdown",
      "metadata": {
        "id": "view-in-github",
        "colab_type": "text"
      },
      "source": [
        "<a href=\"https://colab.research.google.com/github/Himanshu0702/Machine-Learning/blob/main/Tlearning.ipynb\" target=\"_parent\"><img src=\"https://colab.research.google.com/assets/colab-badge.svg\" alt=\"Open In Colab\"/></a>"
      ]
    },
    {
      "cell_type": "code",
      "source": [
        "import numpy as np\n",
        "import cv2\n",
        "import PIL\n",
        "import PIL.Image as Image\n",
        "import os\n",
        "import matplotlib.pyplot as plt\n",
        "\n",
        "import tensorflow as tf\n",
        "import tensorflow_hub as hub\n",
        "\n",
        "from tensorflow import keras\n",
        "from tensorflow.keras import layers\n",
        "from tensorflow.keras.models import Sequential"
      ],
      "metadata": {
        "id": "DAQcOD88nOQv"
      },
      "execution_count": null,
      "outputs": []
    },
    {
      "cell_type": "code",
      "source": [
        "train = '/content/drive/MyDrive/dataset/train'\n",
        "test = '/content/drive/MyDrive/dataset/test'\n",
        "validation = '/content/drive/MyDrive/dataset/val'"
      ],
      "metadata": {
        "id": "TDIYqMLVo4G3"
      },
      "execution_count": null,
      "outputs": []
    },
    {
      "cell_type": "code",
      "source": [
        "from tensorflow.keras.preprocessing.image import ImageDataGenerator\n",
        "\n",
        "    #splits data into training and testing(validation) sets\n",
        "train_datagen = ImageDataGenerator(rescale=1./255)\n",
        "\n",
        "train_generator = train_datagen.flow_from_directory(\n",
        "        '/content/drive/MyDrive/dataset/train',  # Source directory\n",
        "        target_size=(224, 224),  # Resizes images\n",
        "        batch_size=15,\n",
        "        class_mode='sparse')\n",
        "\n",
        "test_generator = train_datagen.flow_from_directory(\n",
        "        '/content/drive/MyDrive/dataset/test',  # Source directory\n",
        "        target_size=(224, 224),  # Resizes images\n",
        "        batch_size=15,\n",
        "        class_mode='sparse')\n",
        "validation_generator = train_datagen.flow_from_directory(\n",
        "    '/content/drive/MyDrive/dataset/val',\n",
        "    target_size=(224, 224),\n",
        "    batch_size=15,\n",
        "    class_mode='sparse')"
      ],
      "metadata": {
        "colab": {
          "base_uri": "https://localhost:8080/"
        },
        "id": "iY2h7v5To4MY",
        "outputId": "efb17f70-b53c-438a-c612-42e145566b67"
      },
      "execution_count": null,
      "outputs": [
        {
          "output_type": "stream",
          "name": "stdout",
          "text": [
            "Found 2513 images belonging to 4 classes.\n",
            "Found 362 images belonging to 4 classes.\n",
            "Found 717 images belonging to 4 classes.\n"
          ]
        }
      ]
    },
    {
      "cell_type": "code",
      "source": [
        "feature_extractor = \"https://tfhub.dev/google/tf2-preview/mobilenet_v2/feature_vector/4\""
      ],
      "metadata": {
        "id": "_wVjdz5kiuqD"
      },
      "execution_count": null,
      "outputs": []
    },
    {
      "cell_type": "code",
      "source": [
        "feature_extractor_layer = hub.KerasLayer(feature_extractor, input_shape=(224,224,3))"
      ],
      "metadata": {
        "id": "2ZclbAi1iutb"
      },
      "execution_count": null,
      "outputs": []
    },
    {
      "cell_type": "code",
      "source": [
        "feature_extractor_layer.trainable = False"
      ],
      "metadata": {
        "id": "rJUpGJxAjzL7"
      },
      "execution_count": null,
      "outputs": []
    },
    {
      "cell_type": "code",
      "source": [
        "model = tf.keras.Sequential([\n",
        "    feature_extractor_layer,\n",
        "    tf.keras.layers.Dropout(0.3),\n",
        "    tf.keras.layers.Dense(4, activation='softmax')\n",
        "])\n",
        "\n",
        "model.summary()"
      ],
      "metadata": {
        "colab": {
          "base_uri": "https://localhost:8080/"
        },
        "id": "fKE1AyByj4ax",
        "outputId": "8e6b08fd-b736-4ded-8a98-5b5ae1d4f7d7"
      },
      "execution_count": null,
      "outputs": [
        {
          "output_type": "stream",
          "name": "stdout",
          "text": [
            "Model: \"sequential_4\"\n",
            "_________________________________________________________________\n",
            " Layer (type)                Output Shape              Param #   \n",
            "=================================================================\n",
            " keras_layer_2 (KerasLayer)  (None, 1280)              2257984   \n",
            "                                                                 \n",
            " dropout_4 (Dropout)         (None, 1280)              0         \n",
            "                                                                 \n",
            " dense_4 (Dense)             (None, 4)                 5124      \n",
            "                                                                 \n",
            "=================================================================\n",
            "Total params: 2,263,108\n",
            "Trainable params: 5,124\n",
            "Non-trainable params: 2,257,984\n",
            "_________________________________________________________________\n"
          ]
        }
      ]
    },
    {
      "cell_type": "code",
      "source": [
        "model.compile(\n",
        "    optimizer = tf.keras.optimizers.Adam(),\n",
        "    loss = tf.keras.losses.SparseCategoricalCrossentropy(from_logits=True),\n",
        "    metrics=['acc'])\n"
      ],
      "metadata": {
        "id": "H1Y19GCSkfZz"
      },
      "execution_count": null,
      "outputs": []
    },
    {
      "cell_type": "code",
      "source": [
        "history = model.fit(train_generator, epochs=6, validation_data = validation_generator)"
      ],
      "metadata": {
        "colab": {
          "base_uri": "https://localhost:8080/"
        },
        "id": "QQ4_5ReZldWr",
        "outputId": "9cfb510d-936a-4e6f-9d5c-ed231c980297"
      },
      "execution_count": null,
      "outputs": [
        {
          "output_type": "stream",
          "name": "stdout",
          "text": [
            "Epoch 1/6\n",
            "168/168 [==============================] - 122s 713ms/step - loss: 1.1987 - acc: 0.4918 - val_loss: 1.0109 - val_acc: 0.5481\n",
            "Epoch 2/6\n",
            "168/168 [==============================] - 116s 693ms/step - loss: 0.9734 - acc: 0.5826 - val_loss: 0.9152 - val_acc: 0.6220\n",
            "Epoch 3/6\n",
            "168/168 [==============================] - 115s 687ms/step - loss: 0.9014 - acc: 0.6108 - val_loss: 0.8525 - val_acc: 0.6625\n",
            "Epoch 4/6\n",
            "168/168 [==============================] - 117s 697ms/step - loss: 0.8372 - acc: 0.6419 - val_loss: 0.8862 - val_acc: 0.6527\n",
            "Epoch 5/6\n",
            "168/168 [==============================] - 115s 682ms/step - loss: 0.7968 - acc: 0.6574 - val_loss: 0.8532 - val_acc: 0.6639\n",
            "Epoch 6/6\n",
            "168/168 [==============================] - 115s 682ms/step - loss: 0.7665 - acc: 0.6713 - val_loss: 0.8376 - val_acc: 0.6876\n"
          ]
        }
      ]
    },
    {
      "cell_type": "code",
      "source": [
        "result = model.evaluate(test_generator)"
      ],
      "metadata": {
        "colab": {
          "base_uri": "https://localhost:8080/"
        },
        "id": "RimXCaXZybq4",
        "outputId": "4cd209f3-b4f6-4fd7-e715-fec043f76f66"
      },
      "execution_count": null,
      "outputs": [
        {
          "output_type": "stream",
          "name": "stdout",
          "text": [
            "25/25 [==============================] - 12s 487ms/step - loss: 0.8348 - acc: 0.6547\n"
          ]
        }
      ]
    },
    {
      "cell_type": "code",
      "source": [
        "img = cv2.imread('/content/drive/MyDrive/dataset/test/Eczema Photos/03EczemaExcoriated011204.jpg')\n",
        "resize = tf.image.resize(img, (224,224))\n",
        "yhat = model.predict(np.expand_dims(resize/255,0))\n",
        "yhat"
      ],
      "metadata": {
        "colab": {
          "base_uri": "https://localhost:8080/"
        },
        "id": "fopQkVJGyuc5",
        "outputId": "e70b0b23-3f5b-4031-9ccb-2eefc7fdb582"
      },
      "execution_count": null,
      "outputs": [
        {
          "output_type": "stream",
          "name": "stdout",
          "text": [
            "1/1 [==============================] - 1s 543ms/step\n"
          ]
        },
        {
          "output_type": "execute_result",
          "data": {
            "text/plain": [
              "array([[0.11654877, 0.17311364, 0.27753764, 0.43279994]], dtype=float32)"
            ]
          },
          "metadata": {},
          "execution_count": 118
        }
      ]
    },
    {
      "cell_type": "code",
      "source": [
        "train_generator.class_indices"
      ],
      "metadata": {
        "colab": {
          "base_uri": "https://localhost:8080/"
        },
        "id": "7F03B1Bz3dzP",
        "outputId": "b290aad0-43cc-47b3-a66f-88603667fadb"
      },
      "execution_count": null,
      "outputs": [
        {
          "output_type": "execute_result",
          "data": {
            "text/plain": [
              "{'Atopic Dermatitis Photos': 0,\n",
              " 'Eczema Photos': 1,\n",
              " 'Melanoma Skin Cancer Nevi and Moles': 2,\n",
              " 'Psoriasis pictures Lichen Planus and related diseases': 3}"
            ]
          },
          "metadata": {},
          "execution_count": 119
        }
      ]
    }
  ]
}