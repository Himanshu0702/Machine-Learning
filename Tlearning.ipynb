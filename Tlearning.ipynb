{
  "nbformat": 4,
  "nbformat_minor": 0,
  "metadata": {
    "colab": {
      "provenance": [],
      "mount_file_id": "1gr1DSLKHvuOGB9G9gRUKMu4AVcEpDioP",
      "authorship_tag": "ABX9TyNslKaOAv1Rp5q34w8luIea",
      "include_colab_link": true
    },
    "kernelspec": {
      "name": "python3",
      "display_name": "Python 3"
    },
    "language_info": {
      "name": "python"
    }
  },
  "cells": [
    {
      "cell_type": "markdown",
      "metadata": {
        "id": "view-in-github",
        "colab_type": "text"
      },
      "source": [
        "<a href=\"https://colab.research.google.com/github/Himanshu0702/Machine-Learning/blob/main/Tlearning.ipynb\" target=\"_parent\"><img src=\"https://colab.research.google.com/assets/colab-badge.svg\" alt=\"Open In Colab\"/></a>"
      ]
    },
    {
      "cell_type": "code",
      "source": [
        "from google.colab import drive\n",
        "drive.mount('/content/drive')"
      ],
      "metadata": {
        "colab": {
          "base_uri": "https://localhost:8080/"
        },
        "id": "AvoB4iTyZb6I",
        "outputId": "dc9ea351-b9a2-4148-fefa-53c351ca3e52"
      },
      "execution_count": 4,
      "outputs": [
        {
          "output_type": "stream",
          "name": "stdout",
          "text": [
            "Drive already mounted at /content/drive; to attempt to forcibly remount, call drive.mount(\"/content/drive\", force_remount=True).\n"
          ]
        }
      ]
    },
    {
      "cell_type": "code",
      "source": [
        "import numpy as np\n",
        "import cv2\n",
        "import PIL\n",
        "import PIL.Image as Image\n",
        "import os\n",
        "import matplotlib.pyplot as plt\n",
        "\n",
        "import tensorflow as tf\n",
        "import tensorflow_hub as hub\n",
        "\n",
        "from tensorflow import keras\n",
        "from tensorflow.keras import layers\n",
        "from tensorflow.keras.models import Sequential"
      ],
      "metadata": {
        "id": "DAQcOD88nOQv"
      },
      "execution_count": 5,
      "outputs": []
    },
    {
      "cell_type": "code",
      "source": [
        "pip install split-folders[full]"
      ],
      "metadata": {
        "colab": {
          "base_uri": "https://localhost:8080/"
        },
        "id": "PI9UWcVcY05Y",
        "outputId": "3d7eda24-4702-4b81-9307-1fef8b86ba73"
      },
      "execution_count": 6,
      "outputs": [
        {
          "output_type": "stream",
          "name": "stdout",
          "text": [
            "Looking in indexes: https://pypi.org/simple, https://us-python.pkg.dev/colab-wheels/public/simple/\n",
            "Requirement already satisfied: split-folders[full] in /usr/local/lib/python3.8/dist-packages (0.5.1)\n",
            "Requirement already satisfied: tqdm in /usr/local/lib/python3.8/dist-packages (from split-folders[full]) (4.64.1)\n"
          ]
        }
      ]
    },
    {
      "cell_type": "code",
      "source": [
        "#Split the data into train,test and validation\n",
        "import splitfolders\n",
        "#Location of data\n",
        "input_folder = '/content/drive/MyDrive/Skin_Disease'\n",
        "#Location of train,test and validation data is to be given in output\n",
        "splitfolders.ratio(input_folder, output=\"/content/drive/MyDrive/dataset\",\n",
        "                   seed=42, ratio=(.7, .2, .1),\n",
        "                   group_prefix = None)"
      ],
      "metadata": {
        "colab": {
          "base_uri": "https://localhost:8080/"
        },
        "id": "mexxFowAY2O2",
        "outputId": "e8ba726f-2f26-400f-be74-4e05f3ab3804"
      },
      "execution_count": 7,
      "outputs": [
        {
          "output_type": "stream",
          "name": "stderr",
          "text": [
            "Copying files: 3592 files [19:08,  3.13 files/s]\n"
          ]
        }
      ]
    },
    {
      "cell_type": "code",
      "source": [
        "train = '/content/drive/MyDrive/dataset/train'\n",
        "test = '/content/drive/MyDrive/dataset/test'\n",
        "validation = '/content/drive/MyDrive/dataset/val'"
      ],
      "metadata": {
        "id": "TDIYqMLVo4G3"
      },
      "execution_count": 8,
      "outputs": []
    },
    {
      "cell_type": "code",
      "source": [
        "from tensorflow.keras.preprocessing.image import ImageDataGenerator\n",
        "\n",
        "    #splits data into training and testing(validation) sets\n",
        "train_datagen = ImageDataGenerator(rescale=1./255)\n",
        "\n",
        "train_generator = train_datagen.flow_from_directory(\n",
        "        '/content/drive/MyDrive/dataset/train',  # Source directory\n",
        "        target_size=(224, 224),  # Resizes images\n",
        "        batch_size=15,\n",
        "        class_mode='sparse')\n",
        "\n",
        "test_generator = train_datagen.flow_from_directory(\n",
        "        '/content/drive/MyDrive/dataset/test',  # Source directory\n",
        "        target_size=(224, 224),  # Resizes images\n",
        "        batch_size=15,\n",
        "        class_mode='sparse')\n",
        "validation_generator = train_datagen.flow_from_directory(\n",
        "    '/content/drive/MyDrive/dataset/val',\n",
        "    target_size=(224, 224),\n",
        "    batch_size=15,\n",
        "    class_mode='sparse')"
      ],
      "metadata": {
        "colab": {
          "base_uri": "https://localhost:8080/"
        },
        "id": "iY2h7v5To4MY",
        "outputId": "e1b6e414-b1f4-4202-9184-bb46825a5206"
      },
      "execution_count": 9,
      "outputs": [
        {
          "output_type": "stream",
          "name": "stdout",
          "text": [
            "Found 2513 images belonging to 4 classes.\n",
            "Found 362 images belonging to 4 classes.\n",
            "Found 717 images belonging to 4 classes.\n"
          ]
        }
      ]
    },
    {
      "cell_type": "code",
      "source": [
        "feature_extractor = \"https://tfhub.dev/google/tf2-preview/mobilenet_v2/feature_vector/4\""
      ],
      "metadata": {
        "id": "_wVjdz5kiuqD"
      },
      "execution_count": 10,
      "outputs": []
    },
    {
      "cell_type": "code",
      "source": [
        "feature_extractor_layer = hub.KerasLayer(feature_extractor, input_shape=(224,224,3))"
      ],
      "metadata": {
        "id": "2ZclbAi1iutb"
      },
      "execution_count": 11,
      "outputs": []
    },
    {
      "cell_type": "code",
      "source": [
        "feature_extractor_layer.trainable = False"
      ],
      "metadata": {
        "id": "rJUpGJxAjzL7"
      },
      "execution_count": 12,
      "outputs": []
    },
    {
      "cell_type": "code",
      "source": [
        "model = tf.keras.Sequential([\n",
        "    feature_extractor_layer,\n",
        "    tf.keras.layers.Dropout(0.3),\n",
        "    tf.keras.layers.Dense(4, activation='softmax')\n",
        "])\n",
        "\n",
        "model.summary()"
      ],
      "metadata": {
        "colab": {
          "base_uri": "https://localhost:8080/"
        },
        "id": "fKE1AyByj4ax",
        "outputId": "9f593d09-5a53-4138-b6b1-7e3a9524de9b"
      },
      "execution_count": 13,
      "outputs": [
        {
          "output_type": "stream",
          "name": "stdout",
          "text": [
            "Model: \"sequential\"\n",
            "_________________________________________________________________\n",
            " Layer (type)                Output Shape              Param #   \n",
            "=================================================================\n",
            " keras_layer (KerasLayer)    (None, 1280)              2257984   \n",
            "                                                                 \n",
            " dropout (Dropout)           (None, 1280)              0         \n",
            "                                                                 \n",
            " dense (Dense)               (None, 4)                 5124      \n",
            "                                                                 \n",
            "=================================================================\n",
            "Total params: 2,263,108\n",
            "Trainable params: 5,124\n",
            "Non-trainable params: 2,257,984\n",
            "_________________________________________________________________\n"
          ]
        }
      ]
    },
    {
      "cell_type": "code",
      "source": [
        "model.compile(\n",
        "    optimizer = tf.keras.optimizers.Adam(),\n",
        "    loss = tf.keras.losses.SparseCategoricalCrossentropy(from_logits=True),\n",
        "    metrics=['acc'])\n"
      ],
      "metadata": {
        "id": "H1Y19GCSkfZz"
      },
      "execution_count": 14,
      "outputs": []
    },
    {
      "cell_type": "code",
      "source": [
        "history = model.fit(train_generator, epochs=6, validation_data = validation_generator)"
      ],
      "metadata": {
        "colab": {
          "base_uri": "https://localhost:8080/"
        },
        "id": "QQ4_5ReZldWr",
        "outputId": "ca9443d8-eb74-46b1-c07e-405490eeddab"
      },
      "execution_count": 15,
      "outputs": [
        {
          "output_type": "stream",
          "name": "stdout",
          "text": [
            "Epoch 1/6\n"
          ]
        },
        {
          "output_type": "stream",
          "name": "stderr",
          "text": [
            "/usr/local/lib/python3.8/dist-packages/tensorflow/python/util/dispatch.py:1082: UserWarning: \"`sparse_categorical_crossentropy` received `from_logits=True`, but the `output` argument was produced by a sigmoid or softmax activation and thus does not represent logits. Was this intended?\"\n",
            "  return dispatch_target(*args, **kwargs)\n"
          ]
        },
        {
          "output_type": "stream",
          "name": "stdout",
          "text": [
            "168/168 [==============================] - 134s 753ms/step - loss: 1.2290 - acc: 0.4775 - val_loss: 0.9335 - val_acc: 0.6165\n",
            "Epoch 2/6\n",
            "168/168 [==============================] - 119s 711ms/step - loss: 0.9760 - acc: 0.5758 - val_loss: 0.8775 - val_acc: 0.6318\n",
            "Epoch 3/6\n",
            "168/168 [==============================] - 118s 704ms/step - loss: 0.8938 - acc: 0.6152 - val_loss: 0.8656 - val_acc: 0.6416\n",
            "Epoch 4/6\n",
            "168/168 [==============================] - 121s 721ms/step - loss: 0.8312 - acc: 0.6558 - val_loss: 0.8424 - val_acc: 0.6444\n",
            "Epoch 5/6\n",
            "168/168 [==============================] - 120s 714ms/step - loss: 0.8097 - acc: 0.6510 - val_loss: 0.9092 - val_acc: 0.6123\n",
            "Epoch 6/6\n",
            "168/168 [==============================] - 119s 710ms/step - loss: 0.7593 - acc: 0.6741 - val_loss: 0.8265 - val_acc: 0.6597\n"
          ]
        }
      ]
    },
    {
      "cell_type": "code",
      "source": [
        "result = model.evaluate(test_generator)"
      ],
      "metadata": {
        "colab": {
          "base_uri": "https://localhost:8080/"
        },
        "id": "RimXCaXZybq4",
        "outputId": "30834696-90ee-4a2e-f8e4-b3310b9b8879"
      },
      "execution_count": 16,
      "outputs": [
        {
          "output_type": "stream",
          "name": "stdout",
          "text": [
            "25/25 [==============================] - 13s 532ms/step - loss: 0.8437 - acc: 0.6713\n"
          ]
        }
      ]
    },
    {
      "cell_type": "code",
      "source": [
        "img = cv2.imread('/content/drive/MyDrive/dataset/test/Eczema Photos/03EczemaExcoriated011204.jpg')\n",
        "resize = tf.image.resize(img, (224,224))\n",
        "yhat = model.predict(np.expand_dims(resize/255,0))\n",
        "yhat"
      ],
      "metadata": {
        "colab": {
          "base_uri": "https://localhost:8080/"
        },
        "id": "fopQkVJGyuc5",
        "outputId": "41f401d3-08d8-4491-ac93-f3b22cd52d45"
      },
      "execution_count": 17,
      "outputs": [
        {
          "output_type": "stream",
          "name": "stdout",
          "text": [
            "1/1 [==============================] - 1s 579ms/step\n"
          ]
        },
        {
          "output_type": "execute_result",
          "data": {
            "text/plain": [
              "array([[0.08947213, 0.49577546, 0.08654491, 0.32820752]], dtype=float32)"
            ]
          },
          "metadata": {},
          "execution_count": 17
        }
      ]
    },
    {
      "cell_type": "code",
      "source": [
        "train_generator.class_indices"
      ],
      "metadata": {
        "colab": {
          "base_uri": "https://localhost:8080/"
        },
        "id": "7F03B1Bz3dzP",
        "outputId": "74f3d0d4-3c19-4c2e-dbc4-8357a92d9a9d"
      },
      "execution_count": 18,
      "outputs": [
        {
          "output_type": "execute_result",
          "data": {
            "text/plain": [
              "{'Atopic Dermatitis Photos': 0,\n",
              " 'Eczema Photos': 1,\n",
              " 'Melanoma Skin Cancer Nevi and Moles': 2,\n",
              " 'Psoriasis pictures Lichen Planus and related diseases': 3}"
            ]
          },
          "metadata": {},
          "execution_count": 18
        }
      ]
    }
  ]
}