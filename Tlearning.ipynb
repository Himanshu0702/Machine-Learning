{
  "nbformat": 4,
  "nbformat_minor": 0,
  "metadata": {
    "colab": {
      "provenance": [],
      "authorship_tag": "ABX9TyOpkBq19544WolWwUcgixTq",
      "include_colab_link": true
    },
    "kernelspec": {
      "name": "python3",
      "display_name": "Python 3"
    },
    "language_info": {
      "name": "python"
    }
  },
  "cells": [
    {
      "cell_type": "markdown",
      "metadata": {
        "id": "view-in-github",
        "colab_type": "text"
      },
      "source": [
        "<a href=\"https://colab.research.google.com/github/Himanshu0702/Machine-Learning/blob/main/Tlearning.ipynb\" target=\"_parent\"><img src=\"https://colab.research.google.com/assets/colab-badge.svg\" alt=\"Open In Colab\"/></a>"
      ]
    },
    {
      "cell_type": "code",
      "source": [
        "import numpy as np\n",
        "import cv2\n",
        "import PIL\n",
        "import PIL.Image as Image\n",
        "import os\n",
        "import matplotlib.pyplot as plt\n",
        "\n",
        "import tensorflow as tf\n",
        "import tensorflow_hub as hub\n",
        "\n",
        "from tensorflow import keras\n",
        "from tensorflow.keras import layers\n",
        "from tensorflow.keras.models import Sequential"
      ],
      "metadata": {
        "id": "DAQcOD88nOQv"
      },
      "execution_count": 74,
      "outputs": []
    },
    {
      "cell_type": "code",
      "source": [
        "data_dir = '/content/drive/MyDrive/Skin_Disease'\n",
        "\n",
        "import pathlib \n",
        "data_dir = pathlib.Path(data_dir)\n",
        "data_dir"
      ],
      "metadata": {
        "colab": {
          "base_uri": "https://localhost:8080/"
        },
        "id": "xraiM6NDnO-G",
        "outputId": "14a9d0c0-a409-4542-af1e-bb4d19510882"
      },
      "execution_count": 75,
      "outputs": [
        {
          "output_type": "execute_result",
          "data": {
            "text/plain": [
              "PosixPath('/content/drive/MyDrive/Skin_Disease')"
            ]
          },
          "metadata": {},
          "execution_count": 75
        }
      ]
    },
    {
      "cell_type": "code",
      "source": [
        "image_count = len(list(data_dir.glob('*/*.jpg')))\n",
        "print(image_count)"
      ],
      "metadata": {
        "colab": {
          "base_uri": "https://localhost:8080/"
        },
        "id": "GE1KzlvynPBX",
        "outputId": "d6587c28-cdb2-4623-e62a-f5332d41040d"
      },
      "execution_count": 76,
      "outputs": [
        {
          "output_type": "stream",
          "name": "stdout",
          "text": [
            "3592\n"
          ]
        }
      ]
    },
    {
      "cell_type": "code",
      "source": [
        "diseases_images_dict = {\n",
        "    'Melanoma' : list(data_dir.glob('Melanoma Skin Cancer Nevi and Moles/*')),\n",
        "    'Eczema' : list(data_dir.glob('Eczema Photos/*')),\n",
        "    'Dermatitis' : list(data_dir.glob('Atopic Dermatitis Photos/*')),\n",
        "    'Psoriasis' : list(data_dir.glob('Psoriasis pictures Lichen Planus and related diseases/*')),\n",
        "}"
      ],
      "metadata": {
        "id": "4J9Yd1WxnPGK"
      },
      "execution_count": 77,
      "outputs": []
    },
    {
      "cell_type": "code",
      "source": [
        "diseases_labels_dict = {\n",
        "    'Melanoma' : 0,\n",
        "    'Eczema' : 1,\n",
        "    'Dermatitis': 2,\n",
        "    'Psoriasis': 3,\n",
        "}"
      ],
      "metadata": {
        "id": "F0AKWqDsnPNe"
      },
      "execution_count": 78,
      "outputs": []
    },
    {
      "cell_type": "code",
      "source": [
        "train = '/content/drive/MyDrive/dataset/train'\n",
        "test = '/content/drive/MyDrive/dataset/test'\n",
        "validation = '/content/drive/MyDrive/dataset/val'"
      ],
      "metadata": {
        "id": "TDIYqMLVo4G3"
      },
      "execution_count": 79,
      "outputs": []
    },
    {
      "cell_type": "code",
      "source": [
        "from tensorflow.keras.preprocessing.image import ImageDataGenerator\n",
        "\n",
        "    #splits data into training and testing(validation) sets\n",
        "train_datagen = ImageDataGenerator(rescale=1./255)\n",
        "\n",
        "train_generator = train_datagen.flow_from_directory(\n",
        "        '/content/drive/MyDrive/dataset/train',  # Source directory\n",
        "        target_size=(224, 224),  # Resizes images\n",
        "        batch_size=15,\n",
        "        class_mode='sparse')\n",
        "\n",
        "test_generator = train_datagen.flow_from_directory(\n",
        "        '/content/drive/MyDrive/dataset/test',  # Source directory\n",
        "        target_size=(224, 224),  # Resizes images\n",
        "        batch_size=15,\n",
        "        class_mode='sparse')\n",
        "validation_generator = train_datagen.flow_from_directory(\n",
        "    '/content/drive/MyDrive/dataset/val',\n",
        "    target_size=(224, 224),\n",
        "    batch_size=15,\n",
        "    class_mode='sparse')"
      ],
      "metadata": {
        "colab": {
          "base_uri": "https://localhost:8080/"
        },
        "id": "iY2h7v5To4MY",
        "outputId": "efb17f70-b53c-438a-c612-42e145566b67"
      },
      "execution_count": 93,
      "outputs": [
        {
          "output_type": "stream",
          "name": "stdout",
          "text": [
            "Found 2513 images belonging to 4 classes.\n",
            "Found 362 images belonging to 4 classes.\n",
            "Found 717 images belonging to 4 classes.\n"
          ]
        }
      ]
    },
    {
      "cell_type": "code",
      "source": [],
      "metadata": {
        "id": "h1vgGnHko4Sn"
      },
      "execution_count": 80,
      "outputs": []
    },
    {
      "cell_type": "code",
      "source": [
        "feature_extractor = \"https://tfhub.dev/google/tf2-preview/mobilenet_v2/feature_vector/4\""
      ],
      "metadata": {
        "id": "_wVjdz5kiuqD"
      },
      "execution_count": 81,
      "outputs": []
    },
    {
      "cell_type": "code",
      "source": [
        "feature_extractor_layer = hub.KerasLayer(feature_extractor, input_shape=(224,224,3))"
      ],
      "metadata": {
        "id": "2ZclbAi1iutb"
      },
      "execution_count": 82,
      "outputs": []
    },
    {
      "cell_type": "code",
      "source": [
        "feature_extractor_layer.trainable = False"
      ],
      "metadata": {
        "id": "rJUpGJxAjzL7"
      },
      "execution_count": 83,
      "outputs": []
    },
    {
      "cell_type": "code",
      "source": [
        "model = tf.keras.Sequential([\n",
        "    feature_extractor_layer,\n",
        "    tf.keras.layers.Dropout(0.3),\n",
        "    tf.keras.layers.Dense(4, activation='softmax')\n",
        "])\n",
        "\n",
        "model.summary()"
      ],
      "metadata": {
        "colab": {
          "base_uri": "https://localhost:8080/"
        },
        "id": "fKE1AyByj4ax",
        "outputId": "aedebc36-9214-4e7c-f4d8-31842f1c908a"
      },
      "execution_count": 84,
      "outputs": [
        {
          "output_type": "stream",
          "name": "stdout",
          "text": [
            "Model: \"sequential_2\"\n",
            "_________________________________________________________________\n",
            " Layer (type)                Output Shape              Param #   \n",
            "=================================================================\n",
            " keras_layer_2 (KerasLayer)  (None, 1280)              2257984   \n",
            "                                                                 \n",
            " dropout_2 (Dropout)         (None, 1280)              0         \n",
            "                                                                 \n",
            " dense_2 (Dense)             (None, 4)                 5124      \n",
            "                                                                 \n",
            "=================================================================\n",
            "Total params: 2,263,108\n",
            "Trainable params: 5,124\n",
            "Non-trainable params: 2,257,984\n",
            "_________________________________________________________________\n"
          ]
        }
      ]
    },
    {
      "cell_type": "code",
      "source": [
        "model.compile(\n",
        "    optimizer = tf.keras.optimizers.Adam(),\n",
        "    loss = tf.keras.losses.SparseCategoricalCrossentropy(from_logits=True),\n",
        "    metrics=['acc'])\n"
      ],
      "metadata": {
        "id": "H1Y19GCSkfZz"
      },
      "execution_count": 85,
      "outputs": []
    },
    {
      "cell_type": "code",
      "source": [
        "history = model.fit(train_generator, epochs=6, validation_data = validation_generator)"
      ],
      "metadata": {
        "colab": {
          "base_uri": "https://localhost:8080/"
        },
        "id": "QQ4_5ReZldWr",
        "outputId": "930cb474-25d7-44a9-9800-10df20176602"
      },
      "execution_count": 87,
      "outputs": [
        {
          "output_type": "stream",
          "name": "stdout",
          "text": [
            "Epoch 1/6\n",
            "168/168 [==============================] - 116s 692ms/step - loss: 0.7478 - acc: 0.6848 - val_loss: 0.8232 - val_acc: 0.6695\n",
            "Epoch 2/6\n",
            "168/168 [==============================] - 117s 696ms/step - loss: 0.7192 - acc: 0.7023 - val_loss: 0.8115 - val_acc: 0.6722\n",
            "Epoch 3/6\n",
            "168/168 [==============================] - 123s 733ms/step - loss: 0.7210 - acc: 0.6892 - val_loss: 0.8281 - val_acc: 0.6625\n",
            "Epoch 4/6\n",
            "168/168 [==============================] - 118s 700ms/step - loss: 0.6913 - acc: 0.7127 - val_loss: 0.8277 - val_acc: 0.6778\n",
            "Epoch 5/6\n",
            "168/168 [==============================] - 116s 693ms/step - loss: 0.7003 - acc: 0.7119 - val_loss: 0.8503 - val_acc: 0.6388\n",
            "Epoch 6/6\n",
            "168/168 [==============================] - 118s 699ms/step - loss: 0.6763 - acc: 0.7087 - val_loss: 0.7926 - val_acc: 0.6750\n"
          ]
        }
      ]
    },
    {
      "cell_type": "code",
      "source": [
        "result = model.evaluate(test_generator)"
      ],
      "metadata": {
        "colab": {
          "base_uri": "https://localhost:8080/"
        },
        "id": "RimXCaXZybq4",
        "outputId": "10ecc296-9bd0-4daa-9417-915aae2c3f0e"
      },
      "execution_count": 96,
      "outputs": [
        {
          "output_type": "stream",
          "name": "stdout",
          "text": [
            "25/25 [==============================] - 13s 522ms/step - loss: 0.8121 - acc: 0.6713\n"
          ]
        }
      ]
    },
    {
      "cell_type": "code",
      "source": [
        "img = cv2.imread('/content/drive/MyDrive/dataset/test/Melanoma Skin Cancer Nevi and Moles/atypical-nevi-15.jpg')\n",
        "resize = tf.image.resize(img, (224,224))\n",
        "yhat = model.predict(np.expand_dims(resize/255,0))\n",
        "yhat"
      ],
      "metadata": {
        "colab": {
          "base_uri": "https://localhost:8080/"
        },
        "id": "fopQkVJGyuc5",
        "outputId": "935711c9-88a2-4033-b54b-8927eb9d7880"
      },
      "execution_count": 99,
      "outputs": [
        {
          "output_type": "stream",
          "name": "stdout",
          "text": [
            "1/1 [==============================] - 0s 58ms/step\n"
          ]
        },
        {
          "output_type": "execute_result",
          "data": {
            "text/plain": [
              "array([[0.01032621, 0.0089736 , 0.90641207, 0.07428809]], dtype=float32)"
            ]
          },
          "metadata": {},
          "execution_count": 99
        }
      ]
    },
    {
      "cell_type": "code",
      "source": [
        "train_generator.class_indices"
      ],
      "metadata": {
        "colab": {
          "base_uri": "https://localhost:8080/"
        },
        "id": "7F03B1Bz3dzP",
        "outputId": "47a6cf81-060c-4ce3-9a0a-6303af719456"
      },
      "execution_count": 98,
      "outputs": [
        {
          "output_type": "execute_result",
          "data": {
            "text/plain": [
              "{'Atopic Dermatitis Photos': 0,\n",
              " 'Eczema Photos': 1,\n",
              " 'Melanoma Skin Cancer Nevi and Moles': 2,\n",
              " 'Psoriasis pictures Lichen Planus and related diseases': 3}"
            ]
          },
          "metadata": {},
          "execution_count": 98
        }
      ]
    },
    {
      "cell_type": "code",
      "source": [],
      "metadata": {
        "id": "Fn2RoXuS3k__"
      },
      "execution_count": null,
      "outputs": []
    }
  ]
}