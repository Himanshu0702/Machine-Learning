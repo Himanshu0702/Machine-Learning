{
  "nbformat": 4,
  "nbformat_minor": 0,
  "metadata": {
    "colab": {
      "provenance": [],
      "authorship_tag": "ABX9TyP09f4ZFEFM6iDb3EosjTm9",
      "include_colab_link": true
    },
    "kernelspec": {
      "name": "python3",
      "display_name": "Python 3"
    },
    "language_info": {
      "name": "python"
    }
  },
  "cells": [
    {
      "cell_type": "markdown",
      "metadata": {
        "id": "view-in-github",
        "colab_type": "text"
      },
      "source": [
        "<a href=\"https://colab.research.google.com/github/Himanshu0702/Machine-Learning/blob/main/ML_Lab_02.ipynb\" target=\"_parent\"><img src=\"https://colab.research.google.com/assets/colab-badge.svg\" alt=\"Open In Colab\"/></a>"
      ]
    },
    {
      "cell_type": "code",
      "execution_count": 6,
      "metadata": {
        "id": "m24nxFIJW-fu"
      },
      "outputs": [],
      "source": [
        "from sklearn.metrics import confusion_matrix\n",
        "from sklearn.metrics import classification_report\n",
        "\n",
        "a = [1,0,0,1,1,1,1,0,1,1,0,1]\n",
        "b = [1,0,0,0,1,1,1,1,0,1,0,0]\n",
        "\n",
        "matrix= confusion_matrix(a,b)\n",
        "cl_report = classification_report(a,b)"
      ]
    },
    {
      "cell_type": "code",
      "source": [
        "print(\"confusion matrix\")\n",
        "print(matrix)"
      ],
      "metadata": {
        "colab": {
          "base_uri": "https://localhost:8080/"
        },
        "id": "MuqXL2gKXJaE",
        "outputId": "5a3ef1db-df7d-4a9e-c9a3-d5b95fef8457"
      },
      "execution_count": 7,
      "outputs": [
        {
          "output_type": "stream",
          "name": "stdout",
          "text": [
            "confusion matrix\n",
            "[[3 1]\n",
            " [3 5]]\n"
          ]
        }
      ]
    },
    {
      "cell_type": "code",
      "source": [
        "print(cl_report)"
      ],
      "metadata": {
        "colab": {
          "base_uri": "https://localhost:8080/"
        },
        "id": "TuFSFj2mXOxo",
        "outputId": "e02c9559-f70a-4f50-c74b-baf44f4e467c"
      },
      "execution_count": 8,
      "outputs": [
        {
          "output_type": "stream",
          "name": "stdout",
          "text": [
            "              precision    recall  f1-score   support\n",
            "\n",
            "           0       0.50      0.75      0.60         4\n",
            "           1       0.83      0.62      0.71         8\n",
            "\n",
            "    accuracy                           0.67        12\n",
            "   macro avg       0.67      0.69      0.66        12\n",
            "weighted avg       0.72      0.67      0.68        12\n",
            "\n"
          ]
        }
      ]
    }
  ]
}